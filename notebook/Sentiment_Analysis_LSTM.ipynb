{
  "cells": [
    {
      "cell_type": "markdown",
      "metadata": {
        "id": "no6sTjOorwht"
      },
      "source": [
        "#**IMBD sentiment Analysis using Pytorch-LSTM**"
      ]
    },
    {
      "cell_type": "markdown",
      "source": [
        "## General steps when working on a NLP project\n",
        "\n",
        "\n",
        "1.   **Data Collection**\n",
        "2.   **Data Preprocessing:**\n",
        "\n",
        "\n",
        "*   Text Cleaning: Remove unwanted characters, HTML tags, or special symbols.\n",
        "\n",
        "*   Normalization: Convert text to a uniform format (e.g., lowercasing).\n",
        "\n",
        "*   Tokenization: Split text into individual words or phrases (tokens).\n",
        "\n",
        "*   Stopword Removal: Remove common words (like \"the,\" \"is\") that may not add significant meaning.\n",
        "\n",
        "*   Lemmatization/Stemming: Reduce words to their base or root form to standardize them.\n",
        "\n",
        "\n",
        "3.   **Exploratory Data Analysis (EDA):**\n",
        "*   Visualize and analyze the data to understand its characteristics (e.g., word frequency, sentiment distribution).\n",
        "\n",
        "\n",
        "4.   **Feature Extraction/Engineering:**\n",
        "\n",
        "Choose Features: Determine which features (text representations) to use, such as:\n",
        "\n",
        "*   Bag of Words\n",
        "*   Word Embeddings (e.g., Word2Vec, GloVe, BERT)\n",
        "\n",
        "\n",
        "5.   **Model Selection:**\n",
        "\n",
        "\n",
        "*   Choose Algorithms: Select appropriate NLP models based on the problem (e.g., logistic regression, LSTM, transformers).\n",
        "*   Consider Pre-trained Models: Utilize pre-trained models (like BERT or GPT) if applicable to save time and improve performance.\n",
        "\n",
        "\n",
        "6.   **Model Training:**\n",
        "\n",
        "\n",
        "*   Split the Data: Divide your data into training, validation, and test sets.\n",
        "*   Train the Model: Use the training set to train your selected models.\n",
        "* Tune Hyperparameters: Optimize model performance by adjusting hyperparameters.\n",
        "\n",
        "7. **Model Evaluation:**\n",
        "* Evaluate Performance: Use metrics appropriate for your task (accuracy, precision, recall, F1 score) to assess the model's performance on the validation set.\n",
        "* Test on Unseen Data: Validate the model using the test set to ensure it generalizes well.\n",
        "\n",
        "\n",
        "\n",
        "\n",
        "\n",
        "\n",
        "\n",
        "\n",
        "\n",
        "\n",
        "\n"
      ],
      "metadata": {
        "id": "jhmW3uRkECG-"
      }
    },
    {
      "cell_type": "code",
      "execution_count": 11,
      "metadata": {
        "id": "GGxhdqj8rRuo"
      },
      "outputs": [],
      "source": [
        "import pandas as pd\n",
        "import numpy as np\n",
        "import torch\n",
        "import torch.nn as nn"
      ]
    },
    {
      "cell_type": "code",
      "source": [
        "!mkdir scripts"
      ],
      "metadata": {
        "id": "zThMKxmbdCL2"
      },
      "execution_count": 159,
      "outputs": []
    },
    {
      "cell_type": "code",
      "source": [
        "from google.colab import files\n",
        "files.upload()"
      ],
      "metadata": {
        "colab": {
          "base_uri": "https://localhost:8080/",
          "height": 110
        },
        "id": "LGZvr_uihlXU",
        "outputId": "e41f5cf8-cffd-421c-9a4e-bc125924aae8"
      },
      "execution_count": 12,
      "outputs": [
        {
          "output_type": "display_data",
          "data": {
            "text/plain": [
              "<IPython.core.display.HTML object>"
            ],
            "text/html": [
              "\n",
              "     <input type=\"file\" id=\"files-1237c88e-68a6-4878-b05e-bdc19eb2d5d2\" name=\"files[]\" multiple disabled\n",
              "        style=\"border:none\" />\n",
              "     <output id=\"result-1237c88e-68a6-4878-b05e-bdc19eb2d5d2\">\n",
              "      Upload widget is only available when the cell has been executed in the\n",
              "      current browser session. Please rerun this cell to enable.\n",
              "      </output>\n",
              "      <script>// Copyright 2017 Google LLC\n",
              "//\n",
              "// Licensed under the Apache License, Version 2.0 (the \"License\");\n",
              "// you may not use this file except in compliance with the License.\n",
              "// You may obtain a copy of the License at\n",
              "//\n",
              "//      http://www.apache.org/licenses/LICENSE-2.0\n",
              "//\n",
              "// Unless required by applicable law or agreed to in writing, software\n",
              "// distributed under the License is distributed on an \"AS IS\" BASIS,\n",
              "// WITHOUT WARRANTIES OR CONDITIONS OF ANY KIND, either express or implied.\n",
              "// See the License for the specific language governing permissions and\n",
              "// limitations under the License.\n",
              "\n",
              "/**\n",
              " * @fileoverview Helpers for google.colab Python module.\n",
              " */\n",
              "(function(scope) {\n",
              "function span(text, styleAttributes = {}) {\n",
              "  const element = document.createElement('span');\n",
              "  element.textContent = text;\n",
              "  for (const key of Object.keys(styleAttributes)) {\n",
              "    element.style[key] = styleAttributes[key];\n",
              "  }\n",
              "  return element;\n",
              "}\n",
              "\n",
              "// Max number of bytes which will be uploaded at a time.\n",
              "const MAX_PAYLOAD_SIZE = 100 * 1024;\n",
              "\n",
              "function _uploadFiles(inputId, outputId) {\n",
              "  const steps = uploadFilesStep(inputId, outputId);\n",
              "  const outputElement = document.getElementById(outputId);\n",
              "  // Cache steps on the outputElement to make it available for the next call\n",
              "  // to uploadFilesContinue from Python.\n",
              "  outputElement.steps = steps;\n",
              "\n",
              "  return _uploadFilesContinue(outputId);\n",
              "}\n",
              "\n",
              "// This is roughly an async generator (not supported in the browser yet),\n",
              "// where there are multiple asynchronous steps and the Python side is going\n",
              "// to poll for completion of each step.\n",
              "// This uses a Promise to block the python side on completion of each step,\n",
              "// then passes the result of the previous step as the input to the next step.\n",
              "function _uploadFilesContinue(outputId) {\n",
              "  const outputElement = document.getElementById(outputId);\n",
              "  const steps = outputElement.steps;\n",
              "\n",
              "  const next = steps.next(outputElement.lastPromiseValue);\n",
              "  return Promise.resolve(next.value.promise).then((value) => {\n",
              "    // Cache the last promise value to make it available to the next\n",
              "    // step of the generator.\n",
              "    outputElement.lastPromiseValue = value;\n",
              "    return next.value.response;\n",
              "  });\n",
              "}\n",
              "\n",
              "/**\n",
              " * Generator function which is called between each async step of the upload\n",
              " * process.\n",
              " * @param {string} inputId Element ID of the input file picker element.\n",
              " * @param {string} outputId Element ID of the output display.\n",
              " * @return {!Iterable<!Object>} Iterable of next steps.\n",
              " */\n",
              "function* uploadFilesStep(inputId, outputId) {\n",
              "  const inputElement = document.getElementById(inputId);\n",
              "  inputElement.disabled = false;\n",
              "\n",
              "  const outputElement = document.getElementById(outputId);\n",
              "  outputElement.innerHTML = '';\n",
              "\n",
              "  const pickedPromise = new Promise((resolve) => {\n",
              "    inputElement.addEventListener('change', (e) => {\n",
              "      resolve(e.target.files);\n",
              "    });\n",
              "  });\n",
              "\n",
              "  const cancel = document.createElement('button');\n",
              "  inputElement.parentElement.appendChild(cancel);\n",
              "  cancel.textContent = 'Cancel upload';\n",
              "  const cancelPromise = new Promise((resolve) => {\n",
              "    cancel.onclick = () => {\n",
              "      resolve(null);\n",
              "    };\n",
              "  });\n",
              "\n",
              "  // Wait for the user to pick the files.\n",
              "  const files = yield {\n",
              "    promise: Promise.race([pickedPromise, cancelPromise]),\n",
              "    response: {\n",
              "      action: 'starting',\n",
              "    }\n",
              "  };\n",
              "\n",
              "  cancel.remove();\n",
              "\n",
              "  // Disable the input element since further picks are not allowed.\n",
              "  inputElement.disabled = true;\n",
              "\n",
              "  if (!files) {\n",
              "    return {\n",
              "      response: {\n",
              "        action: 'complete',\n",
              "      }\n",
              "    };\n",
              "  }\n",
              "\n",
              "  for (const file of files) {\n",
              "    const li = document.createElement('li');\n",
              "    li.append(span(file.name, {fontWeight: 'bold'}));\n",
              "    li.append(span(\n",
              "        `(${file.type || 'n/a'}) - ${file.size} bytes, ` +\n",
              "        `last modified: ${\n",
              "            file.lastModifiedDate ? file.lastModifiedDate.toLocaleDateString() :\n",
              "                                    'n/a'} - `));\n",
              "    const percent = span('0% done');\n",
              "    li.appendChild(percent);\n",
              "\n",
              "    outputElement.appendChild(li);\n",
              "\n",
              "    const fileDataPromise = new Promise((resolve) => {\n",
              "      const reader = new FileReader();\n",
              "      reader.onload = (e) => {\n",
              "        resolve(e.target.result);\n",
              "      };\n",
              "      reader.readAsArrayBuffer(file);\n",
              "    });\n",
              "    // Wait for the data to be ready.\n",
              "    let fileData = yield {\n",
              "      promise: fileDataPromise,\n",
              "      response: {\n",
              "        action: 'continue',\n",
              "      }\n",
              "    };\n",
              "\n",
              "    // Use a chunked sending to avoid message size limits. See b/62115660.\n",
              "    let position = 0;\n",
              "    do {\n",
              "      const length = Math.min(fileData.byteLength - position, MAX_PAYLOAD_SIZE);\n",
              "      const chunk = new Uint8Array(fileData, position, length);\n",
              "      position += length;\n",
              "\n",
              "      const base64 = btoa(String.fromCharCode.apply(null, chunk));\n",
              "      yield {\n",
              "        response: {\n",
              "          action: 'append',\n",
              "          file: file.name,\n",
              "          data: base64,\n",
              "        },\n",
              "      };\n",
              "\n",
              "      let percentDone = fileData.byteLength === 0 ?\n",
              "          100 :\n",
              "          Math.round((position / fileData.byteLength) * 100);\n",
              "      percent.textContent = `${percentDone}% done`;\n",
              "\n",
              "    } while (position < fileData.byteLength);\n",
              "  }\n",
              "\n",
              "  // All done.\n",
              "  yield {\n",
              "    response: {\n",
              "      action: 'complete',\n",
              "    }\n",
              "  };\n",
              "}\n",
              "\n",
              "scope.google = scope.google || {};\n",
              "scope.google.colab = scope.google.colab || {};\n",
              "scope.google.colab._files = {\n",
              "  _uploadFiles,\n",
              "  _uploadFilesContinue,\n",
              "};\n",
              "})(self);\n",
              "</script> "
            ]
          },
          "metadata": {}
        },
        {
          "output_type": "stream",
          "name": "stdout",
          "text": [
            "Saving kaggle.json to kaggle.json\n"
          ]
        },
        {
          "output_type": "execute_result",
          "data": {
            "text/plain": [
              "{'kaggle.json': b'{\"username\":\"nouranmostafa25\",\"key\":\"81b9aed9da2c20b622c3f78c9bf11caa\"}'}"
            ]
          },
          "metadata": {},
          "execution_count": 12
        }
      ]
    },
    {
      "cell_type": "code",
      "source": [
        "!mkdir -p ~/.kaggle\n",
        "!mv kaggle.json ~/.kaggle/\n",
        "!chmod 600 ~/.kaggle/kaggle.json"
      ],
      "metadata": {
        "id": "lbv4XpQrUlyp"
      },
      "execution_count": 16,
      "outputs": []
    },
    {
      "cell_type": "code",
      "source": [
        "!kaggle kernels pull lakshmi25npathi/sentiment-analysis-of-imdb-movie-reviews"
      ],
      "metadata": {
        "colab": {
          "base_uri": "https://localhost:8080/"
        },
        "id": "Ydayc2-kT_Qs",
        "outputId": "a183e7b9-5bfd-4d9d-da49-7a8f4e13d42e"
      },
      "execution_count": 18,
      "outputs": [
        {
          "output_type": "stream",
          "name": "stdout",
          "text": [
            "Source code downloaded to /content/sentiment-analysis-of-imdb-movie-reviews.ipynb\n"
          ]
        }
      ]
    },
    {
      "cell_type": "code",
      "source": [
        "!kaggle datasets download -d lakshmi25npathi/imdb-dataset-of-50k-movie-reviews"
      ],
      "metadata": {
        "colab": {
          "base_uri": "https://localhost:8080/"
        },
        "id": "ORF3q-2lhydT",
        "outputId": "c3a30df0-8682-46d3-f7b2-57b2c5d28e06"
      },
      "execution_count": 19,
      "outputs": [
        {
          "output_type": "stream",
          "name": "stdout",
          "text": [
            "Dataset URL: https://www.kaggle.com/datasets/lakshmi25npathi/imdb-dataset-of-50k-movie-reviews\n",
            "License(s): other\n",
            "imdb-dataset-of-50k-movie-reviews.zip: Skipping, found more recently modified local copy (use --force to force download)\n"
          ]
        }
      ]
    },
    {
      "cell_type": "code",
      "source": [
        "import zipfile\n",
        "\n",
        "with zipfile.ZipFile(\"imdb-dataset-of-50k-movie-reviews.zip\", \"r\") as zip_ref:\n",
        "    zip_ref.extractall(\"imdb_data\")  # Unzips files to a folder called imdb_data\n"
      ],
      "metadata": {
        "id": "KYIKc-UUh3R1"
      },
      "execution_count": 20,
      "outputs": []
    },
    {
      "cell_type": "code",
      "execution_count": 22,
      "metadata": {
        "id": "7lsmeIGUHmyg"
      },
      "outputs": [],
      "source": [
        "df = pd.read_csv('imdb_data/IMDB Dataset.csv')\n",
        "\n",
        "df.to_csv('imdb_data/imdb_dataset.csv')"
      ]
    },
    {
      "cell_type": "code",
      "source": [
        "df.head()"
      ],
      "metadata": {
        "colab": {
          "base_uri": "https://localhost:8080/",
          "height": 206
        },
        "id": "z1iN6doZiThx",
        "outputId": "71a5b162-44dd-43ba-92d0-4cf739468abb"
      },
      "execution_count": 23,
      "outputs": [
        {
          "output_type": "execute_result",
          "data": {
            "text/plain": [
              "                                              review sentiment\n",
              "0  One of the other reviewers has mentioned that ...  positive\n",
              "1  A wonderful little production. <br /><br />The...  positive\n",
              "2  I thought this was a wonderful way to spend ti...  positive\n",
              "3  Basically there's a family where a little boy ...  negative\n",
              "4  Petter Mattei's \"Love in the Time of Money\" is...  positive"
            ],
            "text/html": [
              "\n",
              "  <div id=\"df-91ef252f-d61c-4e51-9e4d-67b7184105fa\" class=\"colab-df-container\">\n",
              "    <div>\n",
              "<style scoped>\n",
              "    .dataframe tbody tr th:only-of-type {\n",
              "        vertical-align: middle;\n",
              "    }\n",
              "\n",
              "    .dataframe tbody tr th {\n",
              "        vertical-align: top;\n",
              "    }\n",
              "\n",
              "    .dataframe thead th {\n",
              "        text-align: right;\n",
              "    }\n",
              "</style>\n",
              "<table border=\"1\" class=\"dataframe\">\n",
              "  <thead>\n",
              "    <tr style=\"text-align: right;\">\n",
              "      <th></th>\n",
              "      <th>review</th>\n",
              "      <th>sentiment</th>\n",
              "    </tr>\n",
              "  </thead>\n",
              "  <tbody>\n",
              "    <tr>\n",
              "      <th>0</th>\n",
              "      <td>One of the other reviewers has mentioned that ...</td>\n",
              "      <td>positive</td>\n",
              "    </tr>\n",
              "    <tr>\n",
              "      <th>1</th>\n",
              "      <td>A wonderful little production. &lt;br /&gt;&lt;br /&gt;The...</td>\n",
              "      <td>positive</td>\n",
              "    </tr>\n",
              "    <tr>\n",
              "      <th>2</th>\n",
              "      <td>I thought this was a wonderful way to spend ti...</td>\n",
              "      <td>positive</td>\n",
              "    </tr>\n",
              "    <tr>\n",
              "      <th>3</th>\n",
              "      <td>Basically there's a family where a little boy ...</td>\n",
              "      <td>negative</td>\n",
              "    </tr>\n",
              "    <tr>\n",
              "      <th>4</th>\n",
              "      <td>Petter Mattei's \"Love in the Time of Money\" is...</td>\n",
              "      <td>positive</td>\n",
              "    </tr>\n",
              "  </tbody>\n",
              "</table>\n",
              "</div>\n",
              "    <div class=\"colab-df-buttons\">\n",
              "\n",
              "  <div class=\"colab-df-container\">\n",
              "    <button class=\"colab-df-convert\" onclick=\"convertToInteractive('df-91ef252f-d61c-4e51-9e4d-67b7184105fa')\"\n",
              "            title=\"Convert this dataframe to an interactive table.\"\n",
              "            style=\"display:none;\">\n",
              "\n",
              "  <svg xmlns=\"http://www.w3.org/2000/svg\" height=\"24px\" viewBox=\"0 -960 960 960\">\n",
              "    <path d=\"M120-120v-720h720v720H120Zm60-500h600v-160H180v160Zm220 220h160v-160H400v160Zm0 220h160v-160H400v160ZM180-400h160v-160H180v160Zm440 0h160v-160H620v160ZM180-180h160v-160H180v160Zm440 0h160v-160H620v160Z\"/>\n",
              "  </svg>\n",
              "    </button>\n",
              "\n",
              "  <style>\n",
              "    .colab-df-container {\n",
              "      display:flex;\n",
              "      gap: 12px;\n",
              "    }\n",
              "\n",
              "    .colab-df-convert {\n",
              "      background-color: #E8F0FE;\n",
              "      border: none;\n",
              "      border-radius: 50%;\n",
              "      cursor: pointer;\n",
              "      display: none;\n",
              "      fill: #1967D2;\n",
              "      height: 32px;\n",
              "      padding: 0 0 0 0;\n",
              "      width: 32px;\n",
              "    }\n",
              "\n",
              "    .colab-df-convert:hover {\n",
              "      background-color: #E2EBFA;\n",
              "      box-shadow: 0px 1px 2px rgba(60, 64, 67, 0.3), 0px 1px 3px 1px rgba(60, 64, 67, 0.15);\n",
              "      fill: #174EA6;\n",
              "    }\n",
              "\n",
              "    .colab-df-buttons div {\n",
              "      margin-bottom: 4px;\n",
              "    }\n",
              "\n",
              "    [theme=dark] .colab-df-convert {\n",
              "      background-color: #3B4455;\n",
              "      fill: #D2E3FC;\n",
              "    }\n",
              "\n",
              "    [theme=dark] .colab-df-convert:hover {\n",
              "      background-color: #434B5C;\n",
              "      box-shadow: 0px 1px 3px 1px rgba(0, 0, 0, 0.15);\n",
              "      filter: drop-shadow(0px 1px 2px rgba(0, 0, 0, 0.3));\n",
              "      fill: #FFFFFF;\n",
              "    }\n",
              "  </style>\n",
              "\n",
              "    <script>\n",
              "      const buttonEl =\n",
              "        document.querySelector('#df-91ef252f-d61c-4e51-9e4d-67b7184105fa button.colab-df-convert');\n",
              "      buttonEl.style.display =\n",
              "        google.colab.kernel.accessAllowed ? 'block' : 'none';\n",
              "\n",
              "      async function convertToInteractive(key) {\n",
              "        const element = document.querySelector('#df-91ef252f-d61c-4e51-9e4d-67b7184105fa');\n",
              "        const dataTable =\n",
              "          await google.colab.kernel.invokeFunction('convertToInteractive',\n",
              "                                                    [key], {});\n",
              "        if (!dataTable) return;\n",
              "\n",
              "        const docLinkHtml = 'Like what you see? Visit the ' +\n",
              "          '<a target=\"_blank\" href=https://colab.research.google.com/notebooks/data_table.ipynb>data table notebook</a>'\n",
              "          + ' to learn more about interactive tables.';\n",
              "        element.innerHTML = '';\n",
              "        dataTable['output_type'] = 'display_data';\n",
              "        await google.colab.output.renderOutput(dataTable, element);\n",
              "        const docLink = document.createElement('div');\n",
              "        docLink.innerHTML = docLinkHtml;\n",
              "        element.appendChild(docLink);\n",
              "      }\n",
              "    </script>\n",
              "  </div>\n",
              "\n",
              "\n",
              "    <div id=\"df-d08a8827-a862-4f24-8d79-d09edc57214c\">\n",
              "      <button class=\"colab-df-quickchart\" onclick=\"quickchart('df-d08a8827-a862-4f24-8d79-d09edc57214c')\"\n",
              "                title=\"Suggest charts\"\n",
              "                style=\"display:none;\">\n",
              "\n",
              "<svg xmlns=\"http://www.w3.org/2000/svg\" height=\"24px\"viewBox=\"0 0 24 24\"\n",
              "     width=\"24px\">\n",
              "    <g>\n",
              "        <path d=\"M19 3H5c-1.1 0-2 .9-2 2v14c0 1.1.9 2 2 2h14c1.1 0 2-.9 2-2V5c0-1.1-.9-2-2-2zM9 17H7v-7h2v7zm4 0h-2V7h2v10zm4 0h-2v-4h2v4z\"/>\n",
              "    </g>\n",
              "</svg>\n",
              "      </button>\n",
              "\n",
              "<style>\n",
              "  .colab-df-quickchart {\n",
              "      --bg-color: #E8F0FE;\n",
              "      --fill-color: #1967D2;\n",
              "      --hover-bg-color: #E2EBFA;\n",
              "      --hover-fill-color: #174EA6;\n",
              "      --disabled-fill-color: #AAA;\n",
              "      --disabled-bg-color: #DDD;\n",
              "  }\n",
              "\n",
              "  [theme=dark] .colab-df-quickchart {\n",
              "      --bg-color: #3B4455;\n",
              "      --fill-color: #D2E3FC;\n",
              "      --hover-bg-color: #434B5C;\n",
              "      --hover-fill-color: #FFFFFF;\n",
              "      --disabled-bg-color: #3B4455;\n",
              "      --disabled-fill-color: #666;\n",
              "  }\n",
              "\n",
              "  .colab-df-quickchart {\n",
              "    background-color: var(--bg-color);\n",
              "    border: none;\n",
              "    border-radius: 50%;\n",
              "    cursor: pointer;\n",
              "    display: none;\n",
              "    fill: var(--fill-color);\n",
              "    height: 32px;\n",
              "    padding: 0;\n",
              "    width: 32px;\n",
              "  }\n",
              "\n",
              "  .colab-df-quickchart:hover {\n",
              "    background-color: var(--hover-bg-color);\n",
              "    box-shadow: 0 1px 2px rgba(60, 64, 67, 0.3), 0 1px 3px 1px rgba(60, 64, 67, 0.15);\n",
              "    fill: var(--button-hover-fill-color);\n",
              "  }\n",
              "\n",
              "  .colab-df-quickchart-complete:disabled,\n",
              "  .colab-df-quickchart-complete:disabled:hover {\n",
              "    background-color: var(--disabled-bg-color);\n",
              "    fill: var(--disabled-fill-color);\n",
              "    box-shadow: none;\n",
              "  }\n",
              "\n",
              "  .colab-df-spinner {\n",
              "    border: 2px solid var(--fill-color);\n",
              "    border-color: transparent;\n",
              "    border-bottom-color: var(--fill-color);\n",
              "    animation:\n",
              "      spin 1s steps(1) infinite;\n",
              "  }\n",
              "\n",
              "  @keyframes spin {\n",
              "    0% {\n",
              "      border-color: transparent;\n",
              "      border-bottom-color: var(--fill-color);\n",
              "      border-left-color: var(--fill-color);\n",
              "    }\n",
              "    20% {\n",
              "      border-color: transparent;\n",
              "      border-left-color: var(--fill-color);\n",
              "      border-top-color: var(--fill-color);\n",
              "    }\n",
              "    30% {\n",
              "      border-color: transparent;\n",
              "      border-left-color: var(--fill-color);\n",
              "      border-top-color: var(--fill-color);\n",
              "      border-right-color: var(--fill-color);\n",
              "    }\n",
              "    40% {\n",
              "      border-color: transparent;\n",
              "      border-right-color: var(--fill-color);\n",
              "      border-top-color: var(--fill-color);\n",
              "    }\n",
              "    60% {\n",
              "      border-color: transparent;\n",
              "      border-right-color: var(--fill-color);\n",
              "    }\n",
              "    80% {\n",
              "      border-color: transparent;\n",
              "      border-right-color: var(--fill-color);\n",
              "      border-bottom-color: var(--fill-color);\n",
              "    }\n",
              "    90% {\n",
              "      border-color: transparent;\n",
              "      border-bottom-color: var(--fill-color);\n",
              "    }\n",
              "  }\n",
              "</style>\n",
              "\n",
              "      <script>\n",
              "        async function quickchart(key) {\n",
              "          const quickchartButtonEl =\n",
              "            document.querySelector('#' + key + ' button');\n",
              "          quickchartButtonEl.disabled = true;  // To prevent multiple clicks.\n",
              "          quickchartButtonEl.classList.add('colab-df-spinner');\n",
              "          try {\n",
              "            const charts = await google.colab.kernel.invokeFunction(\n",
              "                'suggestCharts', [key], {});\n",
              "          } catch (error) {\n",
              "            console.error('Error during call to suggestCharts:', error);\n",
              "          }\n",
              "          quickchartButtonEl.classList.remove('colab-df-spinner');\n",
              "          quickchartButtonEl.classList.add('colab-df-quickchart-complete');\n",
              "        }\n",
              "        (() => {\n",
              "          let quickchartButtonEl =\n",
              "            document.querySelector('#df-d08a8827-a862-4f24-8d79-d09edc57214c button');\n",
              "          quickchartButtonEl.style.display =\n",
              "            google.colab.kernel.accessAllowed ? 'block' : 'none';\n",
              "        })();\n",
              "      </script>\n",
              "    </div>\n",
              "\n",
              "    </div>\n",
              "  </div>\n"
            ],
            "application/vnd.google.colaboratory.intrinsic+json": {
              "type": "dataframe",
              "variable_name": "df",
              "summary": "{\n  \"name\": \"df\",\n  \"rows\": 50000,\n  \"fields\": [\n    {\n      \"column\": \"review\",\n      \"properties\": {\n        \"dtype\": \"string\",\n        \"num_unique_values\": 49582,\n        \"samples\": [\n          \"\\\"Soul Plane\\\" is a horrible attempt at comedy that only should appeal people with thick skulls, bloodshot eyes and furry pawns. <br /><br />The plot is not only incoherent but also non-existent, acting is mostly sub sub-par with a gang of highly moronic and dreadful characters thrown in for bad measure, jokes are often spotted miles ahead and almost never even a bit amusing. This movie lacks any structure and is full of racial stereotypes that must have seemed old even in the fifties, the only thing it really has going for it is some pretty ladies, but really, if you want that you can rent something from the \\\"Adult\\\" section. OK?<br /><br />I can hardly see anything here to recommend since you'll probably have a lot a better and productive time chasing rats with a sledgehammer or inventing waterproof teabags or whatever.<br /><br />2/10\",\n          \"Guest from the Future tells a fascinating story of time travel, friendship, battle of good and evil -- all with a small budget, child actors, and few special effects. Something for Spielberg and Lucas to learn from. ;) A sixth-grader Kolya \\\"Nick\\\" Gerasimov finds a time machine in the basement of a decrepit building and travels 100 years into the future. He discovers a near-perfect, utopian society where robots play guitars and write poetry, everyone is kind to each other and people enjoy everything technology has to offer. Alice is the daughter of a prominent scientist who invented a device called Mielophone that allows to read minds of humans and animals. The device can be put to both good and bad use, depending on whose hands it falls into. When two evil space pirates from Saturn who want to rule the universe attempt to steal Mielophone, it falls into the hands of 20th century school boy Nick. With the pirates hot on his tracks, he travels back to his time, followed by the pirates, and Alice. Chaos, confusion and funny situations follow as the luckless pirates try to blend in with the earthlings. Alice enrolls in the same school Nick goes to and demonstrates superhuman abilities in PE class. The catch is, Alice doesn't know what Nick looks like, while the pirates do. Also, the pirates are able to change their appearance and turn literally into anyone. (Hmm, I wonder if this is where James Cameron got the idea for Terminator...) Who gets to Nick -- and Mielophone -- first? Excellent plot, non-stop adventures, and great soundtrack. I wish Hollywood made kid movies like this one...\",\n          \"\\\"National Treasure\\\" (2004) is a thoroughly misguided hodge-podge of plot entanglements that borrow from nearly every cloak and dagger government conspiracy clich\\u00e9 that has ever been written. The film stars Nicholas Cage as Benjamin Franklin Gates (how precious is that, I ask you?); a seemingly normal fellow who, for no other reason than being of a lineage of like-minded misguided fortune hunters, decides to steal a 'national treasure' that has been hidden by the United States founding fathers. After a bit of subtext and background that plays laughably (unintentionally) like Indiana Jones meets The Patriot, the film degenerates into one misguided whimsy after another \\u0096 attempting to create a 'Stanley Goodspeed' regurgitation of Nicholas Cage and launch the whole convoluted mess forward with a series of high octane, but disconnected misadventures.<br /><br />The relevancy and logic to having George Washington and his motley crew of patriots burying a king's ransom someplace on native soil, and then, going through the meticulous plan of leaving clues scattered throughout U.S. currency art work, is something that director Jon Turteltaub never quite gets around to explaining. Couldn't Washington found better usage for such wealth during the start up of the country? Hence, we are left with a mystery built on top of an enigma that is already on shaky ground by the time Ben appoints himself the new custodian of this untold wealth. Ben's intentions are noble \\u0096 if confusing. He's set on protecting the treasure. For who and when?\\u0085your guess is as good as mine.<br /><br />But there are a few problems with Ben's crusade. First up, his friend, Ian Holmes (Sean Bean) decides that he can't wait for Ben to make up his mind about stealing the Declaration of Independence from the National Archives (oh, yeah \\u0096 brilliant idea!). Presumably, the back of that famous document holds the secret answer to the ultimate fortune. So Ian tries to kill Ben. The assassination attempt is, of course, unsuccessful, if overly melodramatic. It also affords Ben the opportunity to pick up, and pick on, the very sultry curator of the archives, Abigail Chase (Diane Kruger). She thinks Ben is clearly a nut \\u0096 at least at the beginning. But true to action/romance form, Abby's resolve melts quicker than you can say, \\\"is that the Hope Diamond?\\\" The film moves into full X-File-ish mode, as the FBI, mistakenly believing that Ben is behind the theft, retaliate in various benign ways that lead to a multi-layering of action sequences reminiscent of Mission Impossible meets The Fugitive. Honestly, don't those guys ever get 'intelligence' information that is correct? In the final analysis, \\\"National Treasure\\\" isn't great film making, so much as it's a patchwork rehash of tired old bits from other movies, woven together from scraps, the likes of which would make IL' Betsy Ross blush.<br /><br />The Buena Vista DVD delivers a far more generous treatment than this film is deserving of. The anamorphic widescreen picture exhibits a very smooth and finely detailed image with very rich colors, natural flesh tones, solid blacks and clean whites. The stylized image is also free of blemishes and digital enhancements. The audio is 5.1 and delivers a nice sonic boom to your side and rear speakers with intensity and realism. Extras include a host of promotional junket material that is rather deep and over the top in its explanation of how and why this film was made. If only, as an audience, we had had more clarification as to why Ben and co. were chasing after an illusive treasure, this might have been one good flick. Extras conclude with the theatrical trailer, audio commentary and deleted scenes. Not for the faint-hearted \\u0096 just the thick-headed.\"\n        ],\n        \"semantic_type\": \"\",\n        \"description\": \"\"\n      }\n    },\n    {\n      \"column\": \"sentiment\",\n      \"properties\": {\n        \"dtype\": \"category\",\n        \"num_unique_values\": 2,\n        \"samples\": [\n          \"negative\",\n          \"positive\"\n        ],\n        \"semantic_type\": \"\",\n        \"description\": \"\"\n      }\n    }\n  ]\n}"
            }
          },
          "metadata": {},
          "execution_count": 23
        }
      ]
    },
    {
      "cell_type": "markdown",
      "metadata": {
        "id": "iqXGbzS7Kwva"
      },
      "source": [
        "# Data Preprocessing"
      ]
    },
    {
      "cell_type": "markdown",
      "source": [
        "Text preprocessing is a crucial step in Natural Language Processing (NLP) that involves cleaning and transforming raw text data into a format suitable for analysis and machine learning models. This process is vital for enhancing the performance and accuracy of NLP tasks.\n",
        "\n",
        "One key reason for text preprocessing is to remove noise and irrelevant information from the text, such as special characters, punctuation, and stop words. This helps in reducing the dimensionality of the data and improves the efficiency of subsequent analysis. Additionally, text normalization techniques, such as stemming and lemmatization, ensure that words are represented in their base or root form, reducing redundancy and enhancing the consistency of the dataset.\n",
        "\n",
        "For example, consider the sentence: \"The quick brown foxes are jumping over the lazy dogs.\" After preprocessing, it might become: \"quick brown fox jump lazy dog.\" This simplification facilitates better feature extraction and enables NLP models to focus on the essential linguistic elements.\n",
        "Moreover, text preprocessing addresses issues like :\n",
        "\n",
        "\n",
        "* Lowercase letters.\n",
        "* Removing HTML tags.\n",
        "* Removing URLs.\n",
        "* Removing punctuation.\n",
        "* Chat Words Treatment.\n",
        "* Spelling Correction.\n",
        "* Removing stop words\n",
        "* Handling Emojies\n",
        "* Tokenization\n",
        "* Stemming\n",
        "* Lemmatization\n",
        "\n",
        "![Screenshot 2024-10-29 120548.png](data:image/png;base64,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)\n",
        "\n"
      ],
      "metadata": {
        "id": "rdO2q2vXgJSJ"
      }
    },
    {
      "cell_type": "code",
      "execution_count": 24,
      "metadata": {
        "colab": {
          "base_uri": "https://localhost:8080/",
          "height": 181
        },
        "id": "QiFCuFZ0IISF",
        "outputId": "f5132e6f-84e9-4342-951b-edc3d8079c56"
      },
      "outputs": [
        {
          "output_type": "execute_result",
          "data": {
            "text/plain": [
              "\"Basically there's a family where a little boy (Jake) thinks there's a zombie in his closet & his parents are fighting all the time.<br /><br />This movie is slower than a soap opera... and suddenly, Jake decides to become Rambo and kill the zombie.<br /><br />OK, first of all when you're going to make a film you must Decide if its a thriller or a drama! As a drama the movie is watchable. Parents are divorcing & arguing like in real life. And then we have Jake with his closet which totally ruins all the film! I expected to see a BOOGEYMAN similar movie, and instead i watched a drama with some meaningless thriller spots.<br /><br />3 out of 10 just for the well playing parents & descent dialogs. As for the shots with Jake: just ignore them.\""
            ],
            "application/vnd.google.colaboratory.intrinsic+json": {
              "type": "string"
            }
          },
          "metadata": {},
          "execution_count": 24
        }
      ],
      "source": [
        "df['review'][3]"
      ]
    },
    {
      "cell_type": "code",
      "execution_count": 25,
      "metadata": {
        "id": "f21F3ydeKl4c"
      },
      "outputs": [],
      "source": [
        "df['review'] = df['review'].str.lower()"
      ]
    },
    {
      "cell_type": "code",
      "execution_count": 26,
      "metadata": {
        "colab": {
          "base_uri": "https://localhost:8080/",
          "height": 181
        },
        "id": "NvekG2ZGKrDL",
        "outputId": "bef0b726-b2cc-44fb-e391-d1e5d256cbd6"
      },
      "outputs": [
        {
          "output_type": "execute_result",
          "data": {
            "text/plain": [
              "\"basically there's a family where a little boy (jake) thinks there's a zombie in his closet & his parents are fighting all the time.<br /><br />this movie is slower than a soap opera... and suddenly, jake decides to become rambo and kill the zombie.<br /><br />ok, first of all when you're going to make a film you must decide if its a thriller or a drama! as a drama the movie is watchable. parents are divorcing & arguing like in real life. and then we have jake with his closet which totally ruins all the film! i expected to see a boogeyman similar movie, and instead i watched a drama with some meaningless thriller spots.<br /><br />3 out of 10 just for the well playing parents & descent dialogs. as for the shots with jake: just ignore them.\""
            ],
            "application/vnd.google.colaboratory.intrinsic+json": {
              "type": "string"
            }
          },
          "metadata": {},
          "execution_count": 26
        }
      ],
      "source": [
        "df['review'][3]"
      ]
    },
    {
      "cell_type": "code",
      "execution_count": 27,
      "metadata": {
        "id": "UcNsYYKKKtdC"
      },
      "outputs": [],
      "source": [
        "import re\n",
        "\n",
        "# Function to remove HTML Tags\n",
        "def remove_html_tags(text):\n",
        "    pattern = re.compile('<.*?>')\n",
        "    return pattern.sub(r'', text)"
      ]
    },
    {
      "cell_type": "code",
      "execution_count": 28,
      "metadata": {
        "id": "jmPLhDWmLJgL"
      },
      "outputs": [],
      "source": [
        "# Apply Function to Remove HTML Tags in our Dataset Colum Review.\n",
        "df['review'] = df['review'].apply(remove_html_tags)"
      ]
    },
    {
      "cell_type": "code",
      "execution_count": 29,
      "metadata": {
        "id": "NnZSkY6zMJcB"
      },
      "outputs": [],
      "source": [
        "text = \"<html><body><p> Movie 1</p><p> Actor - Aamir Khan</p><p> Click here to <a href='http://google.com'>download</a></p></body></html>\""
      ]
    },
    {
      "cell_type": "code",
      "execution_count": 30,
      "metadata": {
        "colab": {
          "base_uri": "https://localhost:8080/",
          "height": 36
        },
        "id": "_-O3FeLfMMlR",
        "outputId": "8a9efe45-9199-472f-bd9d-0e7558f5ceeb"
      },
      "outputs": [
        {
          "output_type": "execute_result",
          "data": {
            "text/plain": [
              "' Movie 1 Actor - Aamir Khan Click here to download'"
            ],
            "application/vnd.google.colaboratory.intrinsic+json": {
              "type": "string"
            }
          },
          "metadata": {},
          "execution_count": 30
        }
      ],
      "source": [
        "remove_html_tags(text)"
      ]
    },
    {
      "cell_type": "code",
      "execution_count": 31,
      "metadata": {
        "id": "6Ayhdy2nLMIy"
      },
      "outputs": [],
      "source": [
        "# Here We also Use Regular Expressions to Remove URLs from Text or Whole Corpus.\n",
        "def remove_url(text):\n",
        "    pattern = re.compile(r'https?://\\S+|www\\.\\S+')\n",
        "    return pattern.sub(r'', text)\n"
      ]
    },
    {
      "cell_type": "code",
      "execution_count": 32,
      "metadata": {
        "id": "sX215svLLQUZ"
      },
      "outputs": [],
      "source": [
        "df['review'] = df['review'].apply(remove_url)"
      ]
    },
    {
      "cell_type": "code",
      "execution_count": 33,
      "metadata": {
        "colab": {
          "base_uri": "https://localhost:8080/"
        },
        "id": "HcitjSsGMA_2",
        "outputId": "c0a0de5e-86ba-4419-a0b4-5494a8a2cd02"
      },
      "outputs": [
        {
          "output_type": "stream",
          "name": "stdout",
          "text": [
            "Check out my notebook \n"
          ]
        }
      ],
      "source": [
        "text1 = 'Check out my notebook https://www.kaggle.com/campusx/notebook8223fc1abb'\n",
        "print(remove_url(text1))"
      ]
    },
    {
      "cell_type": "code",
      "execution_count": 34,
      "metadata": {
        "colab": {
          "base_uri": "https://localhost:8080/",
          "height": 36
        },
        "id": "nSOBa395MF9J",
        "outputId": "4f787bb5-d130-4a67-dfac-bf426ae060a8"
      },
      "outputs": [
        {
          "output_type": "execute_result",
          "data": {
            "text/plain": [
              "'!\"#$%&\\'()*+,-./:;<=>?@[\\\\]^_`{|}~'"
            ],
            "application/vnd.google.colaboratory.intrinsic+json": {
              "type": "string"
            }
          },
          "metadata": {},
          "execution_count": 34
        }
      ],
      "source": [
        "import string\n",
        "string.punctuation"
      ]
    },
    {
      "cell_type": "code",
      "execution_count": 35,
      "metadata": {
        "id": "Fu-XTOROMSOS"
      },
      "outputs": [],
      "source": [
        "punc = string.punctuation\n",
        "\n",
        "def remove_punc(text):\n",
        "    return text.translate(str.maketrans('', '', punc))"
      ]
    },
    {
      "cell_type": "code",
      "execution_count": 36,
      "metadata": {
        "id": "ZFoqLljiMa1R"
      },
      "outputs": [],
      "source": [
        "df['review'] = df['review'].apply(remove_punc)"
      ]
    },
    {
      "cell_type": "markdown",
      "source": [
        "Removing stop words is crucial to enhance the quality and efficiency of analysis.\n",
        "\n",
        "Stop words are common words like \"the,\" \"is,\" and \"and,\" which appear frequently in text but carry little semantic meaning.\n",
        "\n",
        " By eliminating stop words, we reduce noise in the data, decrease the dimensionality of the dataset, and improve the accuracy of NLP tasks such as sentiment analysis, topic modeling, and text classification.\n",
        "\n",
        " This process streamlines the analysis by focusing on the significant words that carry more meaningful information, leading to better model performance and interpretation of results."
      ],
      "metadata": {
        "id": "UiJ1UGUXneFC"
      }
    },
    {
      "cell_type": "code",
      "execution_count": 37,
      "metadata": {
        "colab": {
          "base_uri": "https://localhost:8080/"
        },
        "id": "QUCNrv9HUJsO",
        "outputId": "e430af16-1ae5-46cf-80a3-304225cfe1b7"
      },
      "outputs": [
        {
          "output_type": "stream",
          "name": "stderr",
          "text": [
            "[nltk_data] Downloading package stopwords to /root/nltk_data...\n",
            "[nltk_data]   Unzipping corpora/stopwords.zip.\n"
          ]
        },
        {
          "output_type": "execute_result",
          "data": {
            "text/plain": [
              "True"
            ]
          },
          "metadata": {},
          "execution_count": 37
        }
      ],
      "source": [
        "import nltk\n",
        "\n",
        "nltk.download('stopwords')"
      ]
    },
    {
      "cell_type": "code",
      "execution_count": 38,
      "metadata": {
        "id": "A8P1OZ4tMyTF"
      },
      "outputs": [],
      "source": [
        "from nltk.corpus import stopwords"
      ]
    },
    {
      "cell_type": "code",
      "execution_count": 39,
      "metadata": {
        "id": "aNjF3Q2rM423"
      },
      "outputs": [],
      "source": [
        "stopword = stopwords.words('english')"
      ]
    },
    {
      "cell_type": "code",
      "execution_count": 40,
      "metadata": {
        "id": "1pKoPUlAM6q4"
      },
      "outputs": [],
      "source": [
        "def remove_stopwords(text):\n",
        "    new_text = []\n",
        "\n",
        "    for word in text.split():\n",
        "        if word in stopword:\n",
        "            new_text.append('')\n",
        "        else:\n",
        "            new_text.append(word)\n",
        "    x = new_text[:]\n",
        "    new_text.clear()\n",
        "    return \" \".join(x)"
      ]
    },
    {
      "cell_type": "code",
      "execution_count": 41,
      "metadata": {
        "colab": {
          "base_uri": "https://localhost:8080/",
          "height": 458
        },
        "id": "3b1L1X8sM8st",
        "outputId": "b15b47b0-9f57-46cf-c5fe-ea0bea9e0c3e"
      },
      "outputs": [
        {
          "output_type": "execute_result",
          "data": {
            "text/plain": [
              "0        one    reviewers  mentioned   watching  1 oz e...\n",
              "1         wonderful little production  filming techniqu...\n",
              "2         thought    wonderful way  spend time    hot s...\n",
              "3        basically theres  family   little boy jake thi...\n",
              "4        petter matteis love   time  money   visually s...\n",
              "                               ...                        \n",
              "49995     thought  movie    right good job  wasnt  crea...\n",
              "49996    bad plot bad dialogue bad acting idiotic direc...\n",
              "49997       catholic taught  parochial elementary schoo...\n",
              "49998    im going    disagree   previous comment  side ...\n",
              "49999     one expects  star trek movies   high art   fa...\n",
              "Name: review, Length: 50000, dtype: object"
            ],
            "text/html": [
              "<div>\n",
              "<style scoped>\n",
              "    .dataframe tbody tr th:only-of-type {\n",
              "        vertical-align: middle;\n",
              "    }\n",
              "\n",
              "    .dataframe tbody tr th {\n",
              "        vertical-align: top;\n",
              "    }\n",
              "\n",
              "    .dataframe thead th {\n",
              "        text-align: right;\n",
              "    }\n",
              "</style>\n",
              "<table border=\"1\" class=\"dataframe\">\n",
              "  <thead>\n",
              "    <tr style=\"text-align: right;\">\n",
              "      <th></th>\n",
              "      <th>review</th>\n",
              "    </tr>\n",
              "  </thead>\n",
              "  <tbody>\n",
              "    <tr>\n",
              "      <th>0</th>\n",
              "      <td>one    reviewers  mentioned   watching  1 oz e...</td>\n",
              "    </tr>\n",
              "    <tr>\n",
              "      <th>1</th>\n",
              "      <td>wonderful little production  filming techniqu...</td>\n",
              "    </tr>\n",
              "    <tr>\n",
              "      <th>2</th>\n",
              "      <td>thought    wonderful way  spend time    hot s...</td>\n",
              "    </tr>\n",
              "    <tr>\n",
              "      <th>3</th>\n",
              "      <td>basically theres  family   little boy jake thi...</td>\n",
              "    </tr>\n",
              "    <tr>\n",
              "      <th>4</th>\n",
              "      <td>petter matteis love   time  money   visually s...</td>\n",
              "    </tr>\n",
              "    <tr>\n",
              "      <th>...</th>\n",
              "      <td>...</td>\n",
              "    </tr>\n",
              "    <tr>\n",
              "      <th>49995</th>\n",
              "      <td>thought  movie    right good job  wasnt  crea...</td>\n",
              "    </tr>\n",
              "    <tr>\n",
              "      <th>49996</th>\n",
              "      <td>bad plot bad dialogue bad acting idiotic direc...</td>\n",
              "    </tr>\n",
              "    <tr>\n",
              "      <th>49997</th>\n",
              "      <td>catholic taught  parochial elementary schoo...</td>\n",
              "    </tr>\n",
              "    <tr>\n",
              "      <th>49998</th>\n",
              "      <td>im going    disagree   previous comment  side ...</td>\n",
              "    </tr>\n",
              "    <tr>\n",
              "      <th>49999</th>\n",
              "      <td>one expects  star trek movies   high art   fa...</td>\n",
              "    </tr>\n",
              "  </tbody>\n",
              "</table>\n",
              "<p>50000 rows × 1 columns</p>\n",
              "</div><br><label><b>dtype:</b> object</label>"
            ]
          },
          "metadata": {},
          "execution_count": 41
        }
      ],
      "source": [
        "df['review'].apply(remove_stopwords)"
      ]
    },
    {
      "cell_type": "code",
      "execution_count": 42,
      "metadata": {
        "id": "0f3nH3T4M_Ev"
      },
      "outputs": [],
      "source": [
        "df['len_review'] = df['review'].apply(lambda x:len(x))\n"
      ]
    },
    {
      "cell_type": "markdown",
      "source": [
        "\n",
        "\n",
        "*  This can be useful for analyzing review lengths, filtering out very short or very long reviews, or as a feature in machine learning models.\n",
        "\n"
      ],
      "metadata": {
        "id": "BNPfds5xoSG-"
      }
    },
    {
      "cell_type": "code",
      "execution_count": 43,
      "metadata": {
        "id": "PjAKXXI5U-JQ"
      },
      "outputs": [],
      "source": [
        "all_text2 = df['review'].tolist()"
      ]
    },
    {
      "cell_type": "markdown",
      "source": [
        "This list, all_text2, contains each review as an element and can be useful if you need to:\n",
        "\n",
        "\n",
        "\n",
        "\n",
        "\n",
        "*   Perform preprocessing on all reviews at once.\n",
        "*   Feed the reviews into a natural language processing model that requires list input.\n",
        "\n",
        "\n",
        "*   Combine all reviews into a single string for tokenization or word frequency analysis.\n",
        "\n",
        "\n"
      ],
      "metadata": {
        "id": "DyfJF0LMoFEm"
      }
    },
    {
      "cell_type": "code",
      "execution_count": 44,
      "metadata": {
        "colab": {
          "base_uri": "https://localhost:8080/",
          "height": 206
        },
        "id": "pVZrG_g0UvC5",
        "outputId": "cb1a143e-eab7-45f0-9038-8a543b406b28"
      },
      "outputs": [
        {
          "output_type": "execute_result",
          "data": {
            "text/plain": [
              "                                              review sentiment  len_review\n",
              "0  one of the other reviewers has mentioned that ...  positive        1665\n",
              "1  a wonderful little production the filming tech...  positive         936\n",
              "2  i thought this was a wonderful way to spend ti...  positive         874\n",
              "3  basically theres a family where a little boy j...  negative         688\n",
              "4  petter matteis love in the time of money is a ...  positive        1237"
            ],
            "text/html": [
              "\n",
              "  <div id=\"df-85d0cdb0-a0e8-4d09-8637-0de5a049e9c9\" class=\"colab-df-container\">\n",
              "    <div>\n",
              "<style scoped>\n",
              "    .dataframe tbody tr th:only-of-type {\n",
              "        vertical-align: middle;\n",
              "    }\n",
              "\n",
              "    .dataframe tbody tr th {\n",
              "        vertical-align: top;\n",
              "    }\n",
              "\n",
              "    .dataframe thead th {\n",
              "        text-align: right;\n",
              "    }\n",
              "</style>\n",
              "<table border=\"1\" class=\"dataframe\">\n",
              "  <thead>\n",
              "    <tr style=\"text-align: right;\">\n",
              "      <th></th>\n",
              "      <th>review</th>\n",
              "      <th>sentiment</th>\n",
              "      <th>len_review</th>\n",
              "    </tr>\n",
              "  </thead>\n",
              "  <tbody>\n",
              "    <tr>\n",
              "      <th>0</th>\n",
              "      <td>one of the other reviewers has mentioned that ...</td>\n",
              "      <td>positive</td>\n",
              "      <td>1665</td>\n",
              "    </tr>\n",
              "    <tr>\n",
              "      <th>1</th>\n",
              "      <td>a wonderful little production the filming tech...</td>\n",
              "      <td>positive</td>\n",
              "      <td>936</td>\n",
              "    </tr>\n",
              "    <tr>\n",
              "      <th>2</th>\n",
              "      <td>i thought this was a wonderful way to spend ti...</td>\n",
              "      <td>positive</td>\n",
              "      <td>874</td>\n",
              "    </tr>\n",
              "    <tr>\n",
              "      <th>3</th>\n",
              "      <td>basically theres a family where a little boy j...</td>\n",
              "      <td>negative</td>\n",
              "      <td>688</td>\n",
              "    </tr>\n",
              "    <tr>\n",
              "      <th>4</th>\n",
              "      <td>petter matteis love in the time of money is a ...</td>\n",
              "      <td>positive</td>\n",
              "      <td>1237</td>\n",
              "    </tr>\n",
              "  </tbody>\n",
              "</table>\n",
              "</div>\n",
              "    <div class=\"colab-df-buttons\">\n",
              "\n",
              "  <div class=\"colab-df-container\">\n",
              "    <button class=\"colab-df-convert\" onclick=\"convertToInteractive('df-85d0cdb0-a0e8-4d09-8637-0de5a049e9c9')\"\n",
              "            title=\"Convert this dataframe to an interactive table.\"\n",
              "            style=\"display:none;\">\n",
              "\n",
              "  <svg xmlns=\"http://www.w3.org/2000/svg\" height=\"24px\" viewBox=\"0 -960 960 960\">\n",
              "    <path d=\"M120-120v-720h720v720H120Zm60-500h600v-160H180v160Zm220 220h160v-160H400v160Zm0 220h160v-160H400v160ZM180-400h160v-160H180v160Zm440 0h160v-160H620v160ZM180-180h160v-160H180v160Zm440 0h160v-160H620v160Z\"/>\n",
              "  </svg>\n",
              "    </button>\n",
              "\n",
              "  <style>\n",
              "    .colab-df-container {\n",
              "      display:flex;\n",
              "      gap: 12px;\n",
              "    }\n",
              "\n",
              "    .colab-df-convert {\n",
              "      background-color: #E8F0FE;\n",
              "      border: none;\n",
              "      border-radius: 50%;\n",
              "      cursor: pointer;\n",
              "      display: none;\n",
              "      fill: #1967D2;\n",
              "      height: 32px;\n",
              "      padding: 0 0 0 0;\n",
              "      width: 32px;\n",
              "    }\n",
              "\n",
              "    .colab-df-convert:hover {\n",
              "      background-color: #E2EBFA;\n",
              "      box-shadow: 0px 1px 2px rgba(60, 64, 67, 0.3), 0px 1px 3px 1px rgba(60, 64, 67, 0.15);\n",
              "      fill: #174EA6;\n",
              "    }\n",
              "\n",
              "    .colab-df-buttons div {\n",
              "      margin-bottom: 4px;\n",
              "    }\n",
              "\n",
              "    [theme=dark] .colab-df-convert {\n",
              "      background-color: #3B4455;\n",
              "      fill: #D2E3FC;\n",
              "    }\n",
              "\n",
              "    [theme=dark] .colab-df-convert:hover {\n",
              "      background-color: #434B5C;\n",
              "      box-shadow: 0px 1px 3px 1px rgba(0, 0, 0, 0.15);\n",
              "      filter: drop-shadow(0px 1px 2px rgba(0, 0, 0, 0.3));\n",
              "      fill: #FFFFFF;\n",
              "    }\n",
              "  </style>\n",
              "\n",
              "    <script>\n",
              "      const buttonEl =\n",
              "        document.querySelector('#df-85d0cdb0-a0e8-4d09-8637-0de5a049e9c9 button.colab-df-convert');\n",
              "      buttonEl.style.display =\n",
              "        google.colab.kernel.accessAllowed ? 'block' : 'none';\n",
              "\n",
              "      async function convertToInteractive(key) {\n",
              "        const element = document.querySelector('#df-85d0cdb0-a0e8-4d09-8637-0de5a049e9c9');\n",
              "        const dataTable =\n",
              "          await google.colab.kernel.invokeFunction('convertToInteractive',\n",
              "                                                    [key], {});\n",
              "        if (!dataTable) return;\n",
              "\n",
              "        const docLinkHtml = 'Like what you see? Visit the ' +\n",
              "          '<a target=\"_blank\" href=https://colab.research.google.com/notebooks/data_table.ipynb>data table notebook</a>'\n",
              "          + ' to learn more about interactive tables.';\n",
              "        element.innerHTML = '';\n",
              "        dataTable['output_type'] = 'display_data';\n",
              "        await google.colab.output.renderOutput(dataTable, element);\n",
              "        const docLink = document.createElement('div');\n",
              "        docLink.innerHTML = docLinkHtml;\n",
              "        element.appendChild(docLink);\n",
              "      }\n",
              "    </script>\n",
              "  </div>\n",
              "\n",
              "\n",
              "    <div id=\"df-05091cd6-77c2-472f-bcc4-016414b412ae\">\n",
              "      <button class=\"colab-df-quickchart\" onclick=\"quickchart('df-05091cd6-77c2-472f-bcc4-016414b412ae')\"\n",
              "                title=\"Suggest charts\"\n",
              "                style=\"display:none;\">\n",
              "\n",
              "<svg xmlns=\"http://www.w3.org/2000/svg\" height=\"24px\"viewBox=\"0 0 24 24\"\n",
              "     width=\"24px\">\n",
              "    <g>\n",
              "        <path d=\"M19 3H5c-1.1 0-2 .9-2 2v14c0 1.1.9 2 2 2h14c1.1 0 2-.9 2-2V5c0-1.1-.9-2-2-2zM9 17H7v-7h2v7zm4 0h-2V7h2v10zm4 0h-2v-4h2v4z\"/>\n",
              "    </g>\n",
              "</svg>\n",
              "      </button>\n",
              "\n",
              "<style>\n",
              "  .colab-df-quickchart {\n",
              "      --bg-color: #E8F0FE;\n",
              "      --fill-color: #1967D2;\n",
              "      --hover-bg-color: #E2EBFA;\n",
              "      --hover-fill-color: #174EA6;\n",
              "      --disabled-fill-color: #AAA;\n",
              "      --disabled-bg-color: #DDD;\n",
              "  }\n",
              "\n",
              "  [theme=dark] .colab-df-quickchart {\n",
              "      --bg-color: #3B4455;\n",
              "      --fill-color: #D2E3FC;\n",
              "      --hover-bg-color: #434B5C;\n",
              "      --hover-fill-color: #FFFFFF;\n",
              "      --disabled-bg-color: #3B4455;\n",
              "      --disabled-fill-color: #666;\n",
              "  }\n",
              "\n",
              "  .colab-df-quickchart {\n",
              "    background-color: var(--bg-color);\n",
              "    border: none;\n",
              "    border-radius: 50%;\n",
              "    cursor: pointer;\n",
              "    display: none;\n",
              "    fill: var(--fill-color);\n",
              "    height: 32px;\n",
              "    padding: 0;\n",
              "    width: 32px;\n",
              "  }\n",
              "\n",
              "  .colab-df-quickchart:hover {\n",
              "    background-color: var(--hover-bg-color);\n",
              "    box-shadow: 0 1px 2px rgba(60, 64, 67, 0.3), 0 1px 3px 1px rgba(60, 64, 67, 0.15);\n",
              "    fill: var(--button-hover-fill-color);\n",
              "  }\n",
              "\n",
              "  .colab-df-quickchart-complete:disabled,\n",
              "  .colab-df-quickchart-complete:disabled:hover {\n",
              "    background-color: var(--disabled-bg-color);\n",
              "    fill: var(--disabled-fill-color);\n",
              "    box-shadow: none;\n",
              "  }\n",
              "\n",
              "  .colab-df-spinner {\n",
              "    border: 2px solid var(--fill-color);\n",
              "    border-color: transparent;\n",
              "    border-bottom-color: var(--fill-color);\n",
              "    animation:\n",
              "      spin 1s steps(1) infinite;\n",
              "  }\n",
              "\n",
              "  @keyframes spin {\n",
              "    0% {\n",
              "      border-color: transparent;\n",
              "      border-bottom-color: var(--fill-color);\n",
              "      border-left-color: var(--fill-color);\n",
              "    }\n",
              "    20% {\n",
              "      border-color: transparent;\n",
              "      border-left-color: var(--fill-color);\n",
              "      border-top-color: var(--fill-color);\n",
              "    }\n",
              "    30% {\n",
              "      border-color: transparent;\n",
              "      border-left-color: var(--fill-color);\n",
              "      border-top-color: var(--fill-color);\n",
              "      border-right-color: var(--fill-color);\n",
              "    }\n",
              "    40% {\n",
              "      border-color: transparent;\n",
              "      border-right-color: var(--fill-color);\n",
              "      border-top-color: var(--fill-color);\n",
              "    }\n",
              "    60% {\n",
              "      border-color: transparent;\n",
              "      border-right-color: var(--fill-color);\n",
              "    }\n",
              "    80% {\n",
              "      border-color: transparent;\n",
              "      border-right-color: var(--fill-color);\n",
              "      border-bottom-color: var(--fill-color);\n",
              "    }\n",
              "    90% {\n",
              "      border-color: transparent;\n",
              "      border-bottom-color: var(--fill-color);\n",
              "    }\n",
              "  }\n",
              "</style>\n",
              "\n",
              "      <script>\n",
              "        async function quickchart(key) {\n",
              "          const quickchartButtonEl =\n",
              "            document.querySelector('#' + key + ' button');\n",
              "          quickchartButtonEl.disabled = true;  // To prevent multiple clicks.\n",
              "          quickchartButtonEl.classList.add('colab-df-spinner');\n",
              "          try {\n",
              "            const charts = await google.colab.kernel.invokeFunction(\n",
              "                'suggestCharts', [key], {});\n",
              "          } catch (error) {\n",
              "            console.error('Error during call to suggestCharts:', error);\n",
              "          }\n",
              "          quickchartButtonEl.classList.remove('colab-df-spinner');\n",
              "          quickchartButtonEl.classList.add('colab-df-quickchart-complete');\n",
              "        }\n",
              "        (() => {\n",
              "          let quickchartButtonEl =\n",
              "            document.querySelector('#df-05091cd6-77c2-472f-bcc4-016414b412ae button');\n",
              "          quickchartButtonEl.style.display =\n",
              "            google.colab.kernel.accessAllowed ? 'block' : 'none';\n",
              "        })();\n",
              "      </script>\n",
              "    </div>\n",
              "\n",
              "    </div>\n",
              "  </div>\n"
            ],
            "application/vnd.google.colaboratory.intrinsic+json": {
              "type": "dataframe",
              "variable_name": "df",
              "summary": "{\n  \"name\": \"df\",\n  \"rows\": 50000,\n  \"fields\": [\n    {\n      \"column\": \"review\",\n      \"properties\": {\n        \"dtype\": \"string\",\n        \"num_unique_values\": 49580,\n        \"samples\": [\n          \"this movie was a modern day scarfaceit had me on my toesthis movie is one of those rare epic films that makes you want a sequeli especially liked damian chapa his performance deserved an academy awardwhich he deserved for his performance in blood in blood outthe only thing i didnt like was the behind the scenes because it didnt show the intensity that the movie hadand i would have like to have seen less narrated scenesbut the movie was great and it is in my top ten movies of all timeplus the acting was great there wasnt a bad scene in the moviei loved it jennifer tilly was perfect as well as all of the casti cant see how anyone wouldnt like this movie it was a greatdefinitely a must see\",\n          \"this is probably one of the best french movies i had seen in a very long time this pastiche or parody of spy movies is very well made and is going to make you laugh from the beginning to the end some references to todays world are very subtle the whole maroccan context of the movie is to be understood in light of todays french cultureenvironment that said all the jokes and  seemingly  shocking remarks that could have been understood as such because of this context are permitted and accepted because this is a parody i was told by my sisters who had already seen this movie that i should go too and assured me that i was going to have a great time and indeed i had if you liked the old 007 movies with sean connery and also like movies like airplane or hot shots you will be delighted i just hope this movie is released on dvd in the us wait and see\",\n          \"giant is one of the most boring overlylong hollywood contraptions ever many scenes seem utterly fake and without energy rock hudson elizabeth taylor and james dean are wasted in this big hollywood production a central notion to this movie that a rancher would ever resist drilling for oil on his land is absurd and i know this because im from houston a couple of scenes especially dean serving taylor coffee redeem this otherwise boring film for a much more accurate and interesting depiction about how modernism changed the ranches in texas see hud one of paul newmans great performances or the last picture show\"\n        ],\n        \"semantic_type\": \"\",\n        \"description\": \"\"\n      }\n    },\n    {\n      \"column\": \"sentiment\",\n      \"properties\": {\n        \"dtype\": \"category\",\n        \"num_unique_values\": 2,\n        \"samples\": [\n          \"negative\",\n          \"positive\"\n        ],\n        \"semantic_type\": \"\",\n        \"description\": \"\"\n      }\n    },\n    {\n      \"column\": \"len_review\",\n      \"properties\": {\n        \"dtype\": \"number\",\n        \"std\": 941,\n        \"min\": 30,\n        \"max\": 13286,\n        \"num_unique_values\": 4595,\n        \"samples\": [\n          3284,\n          1746\n        ],\n        \"semantic_type\": \"\",\n        \"description\": \"\"\n      }\n    }\n  ]\n}"
            }
          },
          "metadata": {},
          "execution_count": 44
        }
      ],
      "source": [
        "df.head()"
      ]
    },
    {
      "cell_type": "markdown",
      "metadata": {
        "id": "D9308iJ0VKG3"
      },
      "source": [
        "# Tokenization"
      ]
    },
    {
      "cell_type": "markdown",
      "source": [
        "Tokenization is a crucial step in NLP text preprocessing where text is segmented into smaller units, typically words or subwords, known as tokens. This process is essential for several reasons. Firstly, it breaks down the text into manageable units for analysis and processing. Secondly, it standardizes the representation of words, enabling consistency in language modeling tasks. Additionally, tokenization forms the basis for feature extraction and modeling in NLP, facilitating tasks such as sentiment analysis, named entity recognition, and machine translation. Overall, tokenization plays a fundamental role in preparing text data for further analysis and modeling in NLP applications.\n",
        "\n",
        "We Generally do 2 Type of tokenization:\n",
        "\n",
        "\n",
        "1.   Word tokenization\n",
        "2.   Sentence Tokenization\n",
        "\n",
        "\n"
      ],
      "metadata": {
        "id": "eT9pXfsdog21"
      }
    },
    {
      "cell_type": "markdown",
      "source": [
        "--> Create String to Int mapping dictionary"
      ],
      "metadata": {
        "id": "B8tHtrpipDrJ"
      }
    },
    {
      "cell_type": "code",
      "execution_count": 45,
      "metadata": {
        "id": "2P4AG-OEU9IN"
      },
      "outputs": [],
      "source": [
        "from collections import Counter\n",
        "all_text2 = ' '.join(all_text2) # combines all reviews into a single string, with each review separated by a space.\n",
        "# create a list of words\n",
        "words = all_text2.split() # splits the text into individual words"
      ]
    },
    {
      "cell_type": "code",
      "execution_count": 46,
      "metadata": {
        "id": "-6H2U0-hVT0g"
      },
      "outputs": [],
      "source": [
        "# Count all the words using Counter Method\n",
        "count_words = Counter(words) # counts each unique word's occurrences\n",
        "\n",
        "total_words = len(words)\n",
        "sorted_words = count_words.most_common(total_words) # returns a list of tuples sorted by frequency in descending order. Each tuple contains a word and its frequency."
      ]
    },
    {
      "cell_type": "code",
      "execution_count": 47,
      "metadata": {
        "id": "Unh0rleJVWr1"
      },
      "outputs": [],
      "source": [
        "stoi = {w:i+1 for i, (w,c) in enumerate(sorted_words)}\n",
        "itos = {i+1:w for i, (w,c) in enumerate(sorted_words)}"
      ]
    },
    {
      "cell_type": "code",
      "execution_count": 48,
      "metadata": {
        "id": "Q21ogN8zVo7R"
      },
      "outputs": [],
      "source": [
        "reviews_split = df['review'].tolist()"
      ]
    },
    {
      "cell_type": "markdown",
      "metadata": {
        "id": "us9BjUIoWtWa"
      },
      "source": [
        "### Encode words"
      ]
    },
    {
      "cell_type": "code",
      "execution_count": 49,
      "metadata": {
        "colab": {
          "base_uri": "https://localhost:8080/"
        },
        "id": "1vADEfv3WKI0",
        "outputId": "2f730fa5-b746-4dd5-d671-f15ac9bd4a2f"
      },
      "outputs": [
        {
          "output_type": "stream",
          "name": "stdout",
          "text": [
            "[[27, 4, 1, 77, 1929, 42, 1058, 11, 100, 144, 39, 507, 3340, 393, 457, 25, 3147, 33, 22, 204, 13, 10, 6, 593, 46, 582, 14, 7542, 87, 145, 11, 3221, 68, 41, 3340, 12, 28, 5511, 2, 14966, 131, 4, 584, 60, 282, 7, 204, 35, 1, 661, 137, 1724, 68, 10, 6, 20, 3, 117, 15, 1, 8155, 5707, 38, 11587, 10, 117, 2479, 54, 5961, 14, 5619, 5, 1457, 381, 38, 584, 28, 6, 3383, 7, 1, 351, 337, 4, 1, 61027, 6, 461, 3340, 13, 11, 6, 1, 11254, 344, 5, 1, 15573, 6801, 2539, 1056, 61028, 8, 2604, 1365, 19, 24633, 533, 32, 4683, 2496, 4, 1, 1197, 112, 30, 1, 7006, 24, 2952, 12693, 2, 405, 61029, 37, 17028, 6, 20, 317, 19, 1, 5027, 3694, 533, 6, 340, 5, 83356, 8284, 39961, 14967, 5116, 7735, 2439, 2, 17029, 61030, 328, 9083, 7324, 13108, 2, 8535, 33911, 22, 108, 223, 21281, 56, 124, 1, 267, 1291, 4, 1, 117, 6, 663, 5, 1, 185, 11, 8, 260, 112, 77, 254, 547, 2965, 818, 177, 1262, 4291, 15, 2473, 1092, 818, 1400, 818, 83357, 146, 969, 180, 1, 87, 393, 9, 119, 200, 3221, 68, 13, 37, 1569, 8, 12, 2188, 9, 395, 124, 9, 12, 1540, 15, 8, 17, 13, 9, 275, 49, 9, 1454, 3, 1240, 15, 3340, 2, 181, 10063, 5, 1, 317, 2070, 4, 2082, 584, 20, 39, 584, 17, 7804, 7007, 4908, 13808, 25, 2921, 43, 15, 3, 31675, 6898, 13808, 489, 19, 611, 2, 74, 238, 14, 8, 72, 9721, 746, 808, 6898, 105, 655, 76, 1197, 19981, 663, 5, 62, 550, 4, 925, 1980, 38, 1197, 555, 144, 3340, 21, 193, 409, 3727, 14, 46, 6, 3239, 83358, 44, 21, 67, 74, 7, 1200, 14, 121, 3987, 501], [3, 382, 113, 357, 1, 1352, 2986, 6, 50, 17894, 50, 83359, 1619, 2, 389, 3, 13109, 2, 516, 26844, 277, 4, 1874, 5, 1, 417, 406, 1, 148, 22, 544, 72, 2251, 496, 4642, 20, 59, 42, 181, 30, 1, 83360, 17, 26, 42, 30, 1, 2200, 183, 3288, 98, 21, 67, 352, 63, 1, 13560, 788, 10064, 31, 1, 1780, 5, 1663, 7443, 6617, 20, 59, 6, 8, 72, 266, 1, 144, 17, 8, 6, 3, 39962, 426, 2, 2350, 406, 3, 4314, 357, 41, 27, 4, 1, 78, 3169, 4, 212, 2, 23, 118, 1, 1874, 61, 258, 340, 14, 1, 113, 176, 1, 1063, 4, 1, 2966, 60, 239, 69, 337, 1, 2124, 1018, 3125, 1233, 1142, 91, 4979, 8, 286, 19, 250, 1781, 2, 250, 4532, 566, 14, 1, 131, 3566, 19392, 2, 28250, 2, 1, 705, 566, 4, 62, 1088, 14, 83361, 61031, 28251, 166, 2246, 22, 1889, 72, 222], [9, 191, 10, 12, 3, 382, 96, 5, 1105, 58, 19, 3, 98, 898, 1466, 2468, 1182, 7, 1, 942, 16269, 756, 2, 144, 3, 3974, 212, 1, 114, 6, 3999, 17, 1, 403, 6, 1843, 2, 1, 99, 22, 1461, 52, 1, 72, 6530, 6570, 1533, 493, 135, 45, 193, 25, 689, 51, 33, 923, 10, 6, 20, 1044, 219, 297, 2953, 5117, 9, 191, 8, 12, 3003, 11, 2927, 2036, 6, 126, 1367, 7, 1144, 4, 1, 423, 103, 4, 168, 24, 2305, 5, 26845, 12, 1, 85, 468, 1378, 29, 27, 4, 19393, 1287, 7, 149, 2965, 9, 124, 3, 2083, 135, 196, 108, 73, 1468, 14, 9183, 39963, 7, 10, 57, 1260, 5, 1223, 183, 40, 1227, 1382, 2, 4963, 204, 76, 3, 855, 17, 5028, 182, 61032, 193, 20, 25, 1, 7444, 5176, 4, 23, 634, 17, 8, 12, 31676, 69, 2275, 2844, 24634, 2, 49, 216, 69, 2642, 3, 78, 212, 5, 137, 63, 14, 330]]\n"
          ]
        }
      ],
      "source": [
        "# Encode each review as a list of integers\n",
        "reviews_int = [] # store each encoded review as a list of integers.\n",
        "for review in reviews_split:\n",
        "    # Convert each word in the review to an integer, defaulting to 0 if word is not in stoi\n",
        "    r = [stoi.get(w, 0) for w in review.split()]  # Using get() to handle unknown words gracefully\n",
        "    reviews_int.append(r)\n",
        "\n",
        "print (reviews_int[:3])"
      ]
    },
    {
      "cell_type": "markdown",
      "source": [
        "### Why did we use .get():\n",
        "\n",
        "When encoding text data, there may be words in review that don't exist in the stoi dictionary. This could happen if:\n",
        "*   The test or validation data has words not seen in the training data.\n",
        "*   There are typos or out-of-vocabulary (OOV) words.\n",
        "\n"
      ],
      "metadata": {
        "id": "S0FozvgyOeYr"
      }
    },
    {
      "cell_type": "code",
      "execution_count": 50,
      "metadata": {
        "colab": {
          "base_uri": "https://localhost:8080/",
          "height": 206
        },
        "id": "vDuHrf6ZWSdT",
        "outputId": "52ee3954-1438-4c00-f7b6-af002ca2b972"
      },
      "outputs": [
        {
          "output_type": "execute_result",
          "data": {
            "text/plain": [
              "                                              review sentiment  len_review\n",
              "0  one of the other reviewers has mentioned that ...  positive        1665\n",
              "1  a wonderful little production the filming tech...  positive         936\n",
              "2  i thought this was a wonderful way to spend ti...  positive         874\n",
              "3  basically theres a family where a little boy j...  negative         688\n",
              "4  petter matteis love in the time of money is a ...  positive        1237"
            ],
            "text/html": [
              "\n",
              "  <div id=\"df-ad237cb5-9bee-492f-bae5-680919626baa\" class=\"colab-df-container\">\n",
              "    <div>\n",
              "<style scoped>\n",
              "    .dataframe tbody tr th:only-of-type {\n",
              "        vertical-align: middle;\n",
              "    }\n",
              "\n",
              "    .dataframe tbody tr th {\n",
              "        vertical-align: top;\n",
              "    }\n",
              "\n",
              "    .dataframe thead th {\n",
              "        text-align: right;\n",
              "    }\n",
              "</style>\n",
              "<table border=\"1\" class=\"dataframe\">\n",
              "  <thead>\n",
              "    <tr style=\"text-align: right;\">\n",
              "      <th></th>\n",
              "      <th>review</th>\n",
              "      <th>sentiment</th>\n",
              "      <th>len_review</th>\n",
              "    </tr>\n",
              "  </thead>\n",
              "  <tbody>\n",
              "    <tr>\n",
              "      <th>0</th>\n",
              "      <td>one of the other reviewers has mentioned that ...</td>\n",
              "      <td>positive</td>\n",
              "      <td>1665</td>\n",
              "    </tr>\n",
              "    <tr>\n",
              "      <th>1</th>\n",
              "      <td>a wonderful little production the filming tech...</td>\n",
              "      <td>positive</td>\n",
              "      <td>936</td>\n",
              "    </tr>\n",
              "    <tr>\n",
              "      <th>2</th>\n",
              "      <td>i thought this was a wonderful way to spend ti...</td>\n",
              "      <td>positive</td>\n",
              "      <td>874</td>\n",
              "    </tr>\n",
              "    <tr>\n",
              "      <th>3</th>\n",
              "      <td>basically theres a family where a little boy j...</td>\n",
              "      <td>negative</td>\n",
              "      <td>688</td>\n",
              "    </tr>\n",
              "    <tr>\n",
              "      <th>4</th>\n",
              "      <td>petter matteis love in the time of money is a ...</td>\n",
              "      <td>positive</td>\n",
              "      <td>1237</td>\n",
              "    </tr>\n",
              "  </tbody>\n",
              "</table>\n",
              "</div>\n",
              "    <div class=\"colab-df-buttons\">\n",
              "\n",
              "  <div class=\"colab-df-container\">\n",
              "    <button class=\"colab-df-convert\" onclick=\"convertToInteractive('df-ad237cb5-9bee-492f-bae5-680919626baa')\"\n",
              "            title=\"Convert this dataframe to an interactive table.\"\n",
              "            style=\"display:none;\">\n",
              "\n",
              "  <svg xmlns=\"http://www.w3.org/2000/svg\" height=\"24px\" viewBox=\"0 -960 960 960\">\n",
              "    <path d=\"M120-120v-720h720v720H120Zm60-500h600v-160H180v160Zm220 220h160v-160H400v160Zm0 220h160v-160H400v160ZM180-400h160v-160H180v160Zm440 0h160v-160H620v160ZM180-180h160v-160H180v160Zm440 0h160v-160H620v160Z\"/>\n",
              "  </svg>\n",
              "    </button>\n",
              "\n",
              "  <style>\n",
              "    .colab-df-container {\n",
              "      display:flex;\n",
              "      gap: 12px;\n",
              "    }\n",
              "\n",
              "    .colab-df-convert {\n",
              "      background-color: #E8F0FE;\n",
              "      border: none;\n",
              "      border-radius: 50%;\n",
              "      cursor: pointer;\n",
              "      display: none;\n",
              "      fill: #1967D2;\n",
              "      height: 32px;\n",
              "      padding: 0 0 0 0;\n",
              "      width: 32px;\n",
              "    }\n",
              "\n",
              "    .colab-df-convert:hover {\n",
              "      background-color: #E2EBFA;\n",
              "      box-shadow: 0px 1px 2px rgba(60, 64, 67, 0.3), 0px 1px 3px 1px rgba(60, 64, 67, 0.15);\n",
              "      fill: #174EA6;\n",
              "    }\n",
              "\n",
              "    .colab-df-buttons div {\n",
              "      margin-bottom: 4px;\n",
              "    }\n",
              "\n",
              "    [theme=dark] .colab-df-convert {\n",
              "      background-color: #3B4455;\n",
              "      fill: #D2E3FC;\n",
              "    }\n",
              "\n",
              "    [theme=dark] .colab-df-convert:hover {\n",
              "      background-color: #434B5C;\n",
              "      box-shadow: 0px 1px 3px 1px rgba(0, 0, 0, 0.15);\n",
              "      filter: drop-shadow(0px 1px 2px rgba(0, 0, 0, 0.3));\n",
              "      fill: #FFFFFF;\n",
              "    }\n",
              "  </style>\n",
              "\n",
              "    <script>\n",
              "      const buttonEl =\n",
              "        document.querySelector('#df-ad237cb5-9bee-492f-bae5-680919626baa button.colab-df-convert');\n",
              "      buttonEl.style.display =\n",
              "        google.colab.kernel.accessAllowed ? 'block' : 'none';\n",
              "\n",
              "      async function convertToInteractive(key) {\n",
              "        const element = document.querySelector('#df-ad237cb5-9bee-492f-bae5-680919626baa');\n",
              "        const dataTable =\n",
              "          await google.colab.kernel.invokeFunction('convertToInteractive',\n",
              "                                                    [key], {});\n",
              "        if (!dataTable) return;\n",
              "\n",
              "        const docLinkHtml = 'Like what you see? Visit the ' +\n",
              "          '<a target=\"_blank\" href=https://colab.research.google.com/notebooks/data_table.ipynb>data table notebook</a>'\n",
              "          + ' to learn more about interactive tables.';\n",
              "        element.innerHTML = '';\n",
              "        dataTable['output_type'] = 'display_data';\n",
              "        await google.colab.output.renderOutput(dataTable, element);\n",
              "        const docLink = document.createElement('div');\n",
              "        docLink.innerHTML = docLinkHtml;\n",
              "        element.appendChild(docLink);\n",
              "      }\n",
              "    </script>\n",
              "  </div>\n",
              "\n",
              "\n",
              "    <div id=\"df-9eb416c1-4b7c-489f-a301-3df04ea0add7\">\n",
              "      <button class=\"colab-df-quickchart\" onclick=\"quickchart('df-9eb416c1-4b7c-489f-a301-3df04ea0add7')\"\n",
              "                title=\"Suggest charts\"\n",
              "                style=\"display:none;\">\n",
              "\n",
              "<svg xmlns=\"http://www.w3.org/2000/svg\" height=\"24px\"viewBox=\"0 0 24 24\"\n",
              "     width=\"24px\">\n",
              "    <g>\n",
              "        <path d=\"M19 3H5c-1.1 0-2 .9-2 2v14c0 1.1.9 2 2 2h14c1.1 0 2-.9 2-2V5c0-1.1-.9-2-2-2zM9 17H7v-7h2v7zm4 0h-2V7h2v10zm4 0h-2v-4h2v4z\"/>\n",
              "    </g>\n",
              "</svg>\n",
              "      </button>\n",
              "\n",
              "<style>\n",
              "  .colab-df-quickchart {\n",
              "      --bg-color: #E8F0FE;\n",
              "      --fill-color: #1967D2;\n",
              "      --hover-bg-color: #E2EBFA;\n",
              "      --hover-fill-color: #174EA6;\n",
              "      --disabled-fill-color: #AAA;\n",
              "      --disabled-bg-color: #DDD;\n",
              "  }\n",
              "\n",
              "  [theme=dark] .colab-df-quickchart {\n",
              "      --bg-color: #3B4455;\n",
              "      --fill-color: #D2E3FC;\n",
              "      --hover-bg-color: #434B5C;\n",
              "      --hover-fill-color: #FFFFFF;\n",
              "      --disabled-bg-color: #3B4455;\n",
              "      --disabled-fill-color: #666;\n",
              "  }\n",
              "\n",
              "  .colab-df-quickchart {\n",
              "    background-color: var(--bg-color);\n",
              "    border: none;\n",
              "    border-radius: 50%;\n",
              "    cursor: pointer;\n",
              "    display: none;\n",
              "    fill: var(--fill-color);\n",
              "    height: 32px;\n",
              "    padding: 0;\n",
              "    width: 32px;\n",
              "  }\n",
              "\n",
              "  .colab-df-quickchart:hover {\n",
              "    background-color: var(--hover-bg-color);\n",
              "    box-shadow: 0 1px 2px rgba(60, 64, 67, 0.3), 0 1px 3px 1px rgba(60, 64, 67, 0.15);\n",
              "    fill: var(--button-hover-fill-color);\n",
              "  }\n",
              "\n",
              "  .colab-df-quickchart-complete:disabled,\n",
              "  .colab-df-quickchart-complete:disabled:hover {\n",
              "    background-color: var(--disabled-bg-color);\n",
              "    fill: var(--disabled-fill-color);\n",
              "    box-shadow: none;\n",
              "  }\n",
              "\n",
              "  .colab-df-spinner {\n",
              "    border: 2px solid var(--fill-color);\n",
              "    border-color: transparent;\n",
              "    border-bottom-color: var(--fill-color);\n",
              "    animation:\n",
              "      spin 1s steps(1) infinite;\n",
              "  }\n",
              "\n",
              "  @keyframes spin {\n",
              "    0% {\n",
              "      border-color: transparent;\n",
              "      border-bottom-color: var(--fill-color);\n",
              "      border-left-color: var(--fill-color);\n",
              "    }\n",
              "    20% {\n",
              "      border-color: transparent;\n",
              "      border-left-color: var(--fill-color);\n",
              "      border-top-color: var(--fill-color);\n",
              "    }\n",
              "    30% {\n",
              "      border-color: transparent;\n",
              "      border-left-color: var(--fill-color);\n",
              "      border-top-color: var(--fill-color);\n",
              "      border-right-color: var(--fill-color);\n",
              "    }\n",
              "    40% {\n",
              "      border-color: transparent;\n",
              "      border-right-color: var(--fill-color);\n",
              "      border-top-color: var(--fill-color);\n",
              "    }\n",
              "    60% {\n",
              "      border-color: transparent;\n",
              "      border-right-color: var(--fill-color);\n",
              "    }\n",
              "    80% {\n",
              "      border-color: transparent;\n",
              "      border-right-color: var(--fill-color);\n",
              "      border-bottom-color: var(--fill-color);\n",
              "    }\n",
              "    90% {\n",
              "      border-color: transparent;\n",
              "      border-bottom-color: var(--fill-color);\n",
              "    }\n",
              "  }\n",
              "</style>\n",
              "\n",
              "      <script>\n",
              "        async function quickchart(key) {\n",
              "          const quickchartButtonEl =\n",
              "            document.querySelector('#' + key + ' button');\n",
              "          quickchartButtonEl.disabled = true;  // To prevent multiple clicks.\n",
              "          quickchartButtonEl.classList.add('colab-df-spinner');\n",
              "          try {\n",
              "            const charts = await google.colab.kernel.invokeFunction(\n",
              "                'suggestCharts', [key], {});\n",
              "          } catch (error) {\n",
              "            console.error('Error during call to suggestCharts:', error);\n",
              "          }\n",
              "          quickchartButtonEl.classList.remove('colab-df-spinner');\n",
              "          quickchartButtonEl.classList.add('colab-df-quickchart-complete');\n",
              "        }\n",
              "        (() => {\n",
              "          let quickchartButtonEl =\n",
              "            document.querySelector('#df-9eb416c1-4b7c-489f-a301-3df04ea0add7 button');\n",
              "          quickchartButtonEl.style.display =\n",
              "            google.colab.kernel.accessAllowed ? 'block' : 'none';\n",
              "        })();\n",
              "      </script>\n",
              "    </div>\n",
              "\n",
              "    </div>\n",
              "  </div>\n"
            ],
            "application/vnd.google.colaboratory.intrinsic+json": {
              "type": "dataframe",
              "variable_name": "df",
              "summary": "{\n  \"name\": \"df\",\n  \"rows\": 50000,\n  \"fields\": [\n    {\n      \"column\": \"review\",\n      \"properties\": {\n        \"dtype\": \"string\",\n        \"num_unique_values\": 49580,\n        \"samples\": [\n          \"this movie was a modern day scarfaceit had me on my toesthis movie is one of those rare epic films that makes you want a sequeli especially liked damian chapa his performance deserved an academy awardwhich he deserved for his performance in blood in blood outthe only thing i didnt like was the behind the scenes because it didnt show the intensity that the movie hadand i would have like to have seen less narrated scenesbut the movie was great and it is in my top ten movies of all timeplus the acting was great there wasnt a bad scene in the moviei loved it jennifer tilly was perfect as well as all of the casti cant see how anyone wouldnt like this movie it was a greatdefinitely a must see\",\n          \"this is probably one of the best french movies i had seen in a very long time this pastiche or parody of spy movies is very well made and is going to make you laugh from the beginning to the end some references to todays world are very subtle the whole maroccan context of the movie is to be understood in light of todays french cultureenvironment that said all the jokes and  seemingly  shocking remarks that could have been understood as such because of this context are permitted and accepted because this is a parody i was told by my sisters who had already seen this movie that i should go too and assured me that i was going to have a great time and indeed i had if you liked the old 007 movies with sean connery and also like movies like airplane or hot shots you will be delighted i just hope this movie is released on dvd in the us wait and see\",\n          \"giant is one of the most boring overlylong hollywood contraptions ever many scenes seem utterly fake and without energy rock hudson elizabeth taylor and james dean are wasted in this big hollywood production a central notion to this movie that a rancher would ever resist drilling for oil on his land is absurd and i know this because im from houston a couple of scenes especially dean serving taylor coffee redeem this otherwise boring film for a much more accurate and interesting depiction about how modernism changed the ranches in texas see hud one of paul newmans great performances or the last picture show\"\n        ],\n        \"semantic_type\": \"\",\n        \"description\": \"\"\n      }\n    },\n    {\n      \"column\": \"sentiment\",\n      \"properties\": {\n        \"dtype\": \"category\",\n        \"num_unique_values\": 2,\n        \"samples\": [\n          \"negative\",\n          \"positive\"\n        ],\n        \"semantic_type\": \"\",\n        \"description\": \"\"\n      }\n    },\n    {\n      \"column\": \"len_review\",\n      \"properties\": {\n        \"dtype\": \"number\",\n        \"std\": 941,\n        \"min\": 30,\n        \"max\": 13286,\n        \"num_unique_values\": 4595,\n        \"samples\": [\n          3284,\n          1746\n        ],\n        \"semantic_type\": \"\",\n        \"description\": \"\"\n      }\n    }\n  ]\n}"
            }
          },
          "metadata": {},
          "execution_count": 50
        }
      ],
      "source": [
        "df.head()"
      ]
    },
    {
      "cell_type": "markdown",
      "metadata": {
        "id": "nPVQLX48WwKk"
      },
      "source": [
        "### Encode Labels"
      ]
    },
    {
      "cell_type": "code",
      "execution_count": 51,
      "metadata": {
        "id": "4Bzt0OWaWjgf"
      },
      "outputs": [],
      "source": [
        "labels_split = df['sentiment'].tolist()"
      ]
    },
    {
      "cell_type": "code",
      "source": [
        "encoded_labels = [1 if label =='positive' else 0 for label in labels_split]\n",
        "encoded_labels = np.array(encoded_labels)"
      ],
      "metadata": {
        "id": "p5c-0XV8iz8v"
      },
      "execution_count": 52,
      "outputs": []
    },
    {
      "cell_type": "code",
      "source": [
        "encoded_labels[0:100]"
      ],
      "metadata": {
        "colab": {
          "base_uri": "https://localhost:8080/"
        },
        "id": "kkTQYcdBi4mr",
        "outputId": "6c8b5f22-912b-4909-a400-e53ed8fe6072"
      },
      "execution_count": 53,
      "outputs": [
        {
          "output_type": "execute_result",
          "data": {
            "text/plain": [
              "array([1, 1, 1, 0, 1, 1, 1, 0, 0, 1, 0, 0, 0, 0, 1, 0, 1, 0, 1, 0, 1, 0,\n",
              "       1, 0, 0, 1, 1, 0, 0, 1, 1, 1, 0, 1, 0, 0, 0, 0, 1, 0, 0, 1, 0, 0,\n",
              "       1, 1, 0, 0, 1, 0, 1, 1, 1, 1, 0, 0, 0, 0, 1, 1, 0, 0, 1, 0, 0, 1,\n",
              "       0, 0, 0, 0, 0, 0, 1, 1, 0, 1, 1, 0, 0, 1, 1, 0, 0, 0, 0, 0, 0, 0,\n",
              "       0, 0, 1, 0, 1, 1, 0, 1, 0, 0, 0, 1])"
            ]
          },
          "metadata": {},
          "execution_count": 53
        }
      ]
    },
    {
      "cell_type": "code",
      "source": [
        "encoded_labels.shape"
      ],
      "metadata": {
        "colab": {
          "base_uri": "https://localhost:8080/"
        },
        "id": "Lktcl_xZi-lV",
        "outputId": "55553cff-d09e-48e6-8008-0afaff0bb590"
      },
      "execution_count": 54,
      "outputs": [
        {
          "output_type": "execute_result",
          "data": {
            "text/plain": [
              "(50000,)"
            ]
          },
          "metadata": {},
          "execution_count": 54
        }
      ]
    },
    {
      "cell_type": "code",
      "source": [
        "# Analyze Reviews Length\n",
        "# Calculate the length of each review in terms of the number of integers (encoded words)\n",
        "review_lens = Counter([len(x) for x in reviews_int])\n",
        "\n",
        "# Count and print the number of zero-length reviews (if any)\n",
        "print(\"Zero-length reviews: {}\".format(review_lens[0]))\n",
        "\n",
        "# Find and print the maximum review length\n",
        "print(\"Maximum review length: {}\".format(max(review_lens)))\n"
      ],
      "metadata": {
        "colab": {
          "base_uri": "https://localhost:8080/"
        },
        "id": "aSYz0FzijJbl",
        "outputId": "bf5abf13-c5fe-48de-e84f-4131ac3939da"
      },
      "execution_count": 55,
      "outputs": [
        {
          "output_type": "stream",
          "name": "stdout",
          "text": [
            "Zero-length reviews: 0\n",
            "Maximum review length: 2450\n"
          ]
        }
      ]
    },
    {
      "cell_type": "code",
      "source": [
        "# Plot a histogram of review lengths to visualize the distribution\n",
        "import matplotlib.pyplot as plt\n",
        "%matplotlib inline\n",
        "reviews_len = [len(x) for x in reviews_int]\n",
        "pd.Series(reviews_len).hist()\n",
        "plt.title('Review Length Distribution')\n",
        "plt.xlabel('Review Length (words)')\n",
        "plt.ylabel('Number of Reviews')\n",
        "plt.show()\n",
        "\n",
        "# Display summary statistics of review lengths\n",
        "pd.Series(reviews_len).describe()"
      ],
      "metadata": {
        "colab": {
          "base_uri": "https://localhost:8080/",
          "height": 790
        },
        "id": "8izqexkijTmb",
        "outputId": "f806c5e1-b862-4847-9dc0-97a3d35efc21"
      },
      "execution_count": 56,
      "outputs": [
        {
          "output_type": "display_data",
          "data": {
            "text/plain": [
              "<Figure size 640x480 with 1 Axes>"
            ],
            "image/png": "[encoded data removed]"
          },
          "metadata": {}
        },
        {
          "output_type": "execute_result",
          "data": {
            "text/plain": [
              "count    50000.000000\n",
              "mean       226.252620\n",
              "std        167.624809\n",
              "min          4.000000\n",
              "25%        124.000000\n",
              "50%        170.000000\n",
              "75%        274.000000\n",
              "max       2450.000000\n",
              "dtype: float64"
            ],
            "text/html": [
              "<div>\n",
              "<style scoped>\n",
              "    .dataframe tbody tr th:only-of-type {\n",
              "        vertical-align: middle;\n",
              "    }\n",
              "\n",
              "    .dataframe tbody tr th {\n",
              "        vertical-align: top;\n",
              "    }\n",
              "\n",
              "    .dataframe thead th {\n",
              "        text-align: right;\n",
              "    }\n",
              "</style>\n",
              "<table border=\"1\" class=\"dataframe\">\n",
              "  <thead>\n",
              "    <tr style=\"text-align: right;\">\n",
              "      <th></th>\n",
              "      <th>0</th>\n",
              "    </tr>\n",
              "  </thead>\n",
              "  <tbody>\n",
              "    <tr>\n",
              "      <th>count</th>\n",
              "      <td>50000.000000</td>\n",
              "    </tr>\n",
              "    <tr>\n",
              "      <th>mean</th>\n",
              "      <td>226.252620</td>\n",
              "    </tr>\n",
              "    <tr>\n",
              "      <th>std</th>\n",
              "      <td>167.624809</td>\n",
              "    </tr>\n",
              "    <tr>\n",
              "      <th>min</th>\n",
              "      <td>4.000000</td>\n",
              "    </tr>\n",
              "    <tr>\n",
              "      <th>25%</th>\n",
              "      <td>124.000000</td>\n",
              "    </tr>\n",
              "    <tr>\n",
              "      <th>50%</th>\n",
              "      <td>170.000000</td>\n",
              "    </tr>\n",
              "    <tr>\n",
              "      <th>75%</th>\n",
              "      <td>274.000000</td>\n",
              "    </tr>\n",
              "    <tr>\n",
              "      <th>max</th>\n",
              "      <td>2450.000000</td>\n",
              "    </tr>\n",
              "  </tbody>\n",
              "</table>\n",
              "</div><br><label><b>dtype:</b> float64</label>"
            ]
          },
          "metadata": {},
          "execution_count": 56
        }
      ]
    },
    {
      "cell_type": "code",
      "source": [
        "# remove outliers\n",
        "reviews_int = [ reviews_int[i] for i, l in enumerate(reviews_len) if l>0 ]\n",
        "encoded_labels = [ encoded_labels[i] for i, l in enumerate(reviews_len) if l> 0 ]"
      ],
      "metadata": {
        "id": "GQQSnIkTjYxV"
      },
      "execution_count": 57,
      "outputs": []
    },
    {
      "cell_type": "markdown",
      "source": [
        "This code removes reviews that are considered outliers—in this case, reviews with a length of 0 (zero-length reviews), which may be problematic for model training."
      ],
      "metadata": {
        "id": "GA-zB1lHQ1iP"
      }
    },
    {
      "cell_type": "code",
      "source": [
        "# Padding and truncating\n",
        "def pad_features(reviews_int, seq_length):\n",
        "    \"\"\"\n",
        "    Pads or truncates each review to a fixed sequence length.\n",
        "    If the review is shorter than seq_length, it adds leading zeros.\n",
        "    If the review is longer than seq_length, it trims the excess.\n",
        "    \"\"\"\n",
        "    # Initialize a 2D array of zeros\n",
        "    features = np.zeros((len(reviews_int), seq_length), dtype=int)\n",
        "\n",
        "    # Pad or truncate each review\n",
        "    for i, review in enumerate(reviews_int):\n",
        "        # Take the last `seq_length` elements if the review is longer, else use entire review\n",
        "        features[i, -len(review):] = review[:seq_length]\n",
        "\n",
        "    return features\n"
      ],
      "metadata": {
        "id": "nPH9ZhUfjnIM"
      },
      "execution_count": 58,
      "outputs": []
    },
    {
      "cell_type": "markdown",
      "source": [
        "The for loop iterates over each review:\n",
        "\n",
        "\n",
        "*   If the review length is less than seq_length, it will fill the beginning of the row with zeros (padding).\n",
        "\n",
        "*   If the review length exceeds seq_length, it takes only the first seq_length elements from the review.\n",
        "*   The assignment features [i, -len(review):] = review[:seq_length] ensures that the last part of the row in features will contain the review data, effectively padding with zeros to the left.\n",
        "\n"
      ],
      "metadata": {
        "id": "sPMGWAMNXJ8l"
      }
    },
    {
      "cell_type": "code",
      "source": [
        "features = pad_features(reviews_int,200)"
      ],
      "metadata": {
        "id": "eFYbYaVikXJ-"
      },
      "execution_count": 59,
      "outputs": []
    },
    {
      "cell_type": "code",
      "source": [
        "print (features[:10,:])"
      ],
      "metadata": {
        "colab": {
          "base_uri": "https://localhost:8080/"
        },
        "id": "JnLfUVUzkrmv",
        "outputId": "5654fb0c-395b-4786-9b73-da7cc4e9f3b3"
      },
      "execution_count": 60,
      "outputs": [
        {
          "output_type": "stream",
          "name": "stdout",
          "text": [
            "[[   27     4     1 ...   119   200  3221]\n",
            " [    0     0     0 ...  1889    72   222]\n",
            " [    0     0     0 ...    63    14   330]\n",
            " ...\n",
            " [    0     0     0 ...    19     1   942]\n",
            " [    0     0     0 ...  9941 44449    59]\n",
            " [    0     0     0 ...   410 44450  1206]]\n"
          ]
        }
      ]
    },
    {
      "cell_type": "code",
      "source": [
        "len_feat = len(features)\n",
        "split_frac = 0.8 # 80% of the data will be used for the training set"
      ],
      "metadata": {
        "id": "adPMOpRskti5"
      },
      "execution_count": 61,
      "outputs": []
    },
    {
      "cell_type": "markdown",
      "source": [
        "# Training, Validation, Test Dataset Split"
      ],
      "metadata": {
        "id": "FcxDAMxnZk_M"
      }
    },
    {
      "cell_type": "code",
      "source": [
        "# Training Set: 80% of the data\n",
        "train_x = features[0:int(split_frac*len_feat)]\n",
        "train_y = encoded_labels[0:int(split_frac*len_feat)]\n",
        "\n",
        "remaining_x = features[int(split_frac*len_feat):]\n",
        "remaining_y = encoded_labels[int(split_frac*len_feat):]\n",
        "\n",
        "# Validation Set: 10% of the data\n",
        "valid_x = remaining_x[0:int(len(remaining_x)*0.5)]\n",
        "valid_y = remaining_y[0:int(len(remaining_y)*0.5)]\n",
        "\n",
        "# Testing Set: 10% of the data\n",
        "test_x = remaining_x[int(len(remaining_x)*0.5):]\n",
        "test_y = remaining_y[int(len(remaining_y)*0.5):]"
      ],
      "metadata": {
        "id": "vrmselL7kwjz"
      },
      "execution_count": 62,
      "outputs": []
    },
    {
      "cell_type": "markdown",
      "source": [
        "\n",
        "\n",
        "1.   **Training Set:** Used to train the model. It helps the model learn the underlying patterns in the data.\n",
        "\n",
        "1.   **Validation Set:** Used to tune hyperparameters and select the best model. It provides feedback on the model's performance during the training process without using the test data.\n",
        "2.   **Testing Set:** Used to evaluate the final model's performance after training and validation. It ensures that the model generalizes well to unseen data.\n",
        "\n"
      ],
      "metadata": {
        "id": "s3A_QJbpaRwc"
      }
    },
    {
      "cell_type": "code",
      "source": [
        "type(test_y)"
      ],
      "metadata": {
        "colab": {
          "base_uri": "https://localhost:8080/"
        },
        "id": "00FwrdaUlPAP",
        "outputId": "4be550a0-515b-4b1f-8283-665b875fc7f0"
      },
      "execution_count": 63,
      "outputs": [
        {
          "output_type": "execute_result",
          "data": {
            "text/plain": [
              "list"
            ]
          },
          "metadata": {},
          "execution_count": 63
        }
      ]
    },
    {
      "cell_type": "code",
      "source": [
        "train_y = np.array(train_y)\n",
        "test_y = np.array(test_y)\n",
        "valid_y = np.array(valid_y)"
      ],
      "metadata": {
        "id": "5QN40vW3lROV"
      },
      "execution_count": 64,
      "outputs": []
    },
    {
      "cell_type": "markdown",
      "source": [
        "### Dataloaders and Batching"
      ],
      "metadata": {
        "id": "R8KqnV87luOC"
      }
    },
    {
      "cell_type": "code",
      "source": [
        "import torch\n",
        "from torch.utils.data import TensorDataset, DataLoader\n",
        "\n",
        "train_data = TensorDataset(torch.from_numpy(train_x), torch.from_numpy(train_y))\n",
        "valid_data = TensorDataset(torch.from_numpy(valid_x), torch.from_numpy(valid_y))\n",
        "test_data = TensorDataset(torch.from_numpy(test_x), torch.from_numpy(test_y))\n",
        "\n",
        "batch_size = 50 # how many samples will be processed at a time during training\n",
        "\n",
        "train_loader = DataLoader(train_data, shuffle=True, batch_size=batch_size)\n",
        "valid_loader = DataLoader(valid_data, shuffle=True, batch_size=batch_size)\n",
        "test_loader = DataLoader(test_data, shuffle=True, batch_size=batch_size)"
      ],
      "metadata": {
        "id": "3iKtyj72lgWF"
      },
      "execution_count": 65,
      "outputs": []
    },
    {
      "cell_type": "markdown",
      "source": [
        "\n",
        "\n",
        "*   **TensorDataset** is a convenient way to create a dataset from PyTorch tensors. It allows you to easily pair input features (like train_x) with their corresponding labels (like train_y).\n",
        "\n",
        "*   **DataLoader** provides an iterable over a dataset, allowing you to easily manage how data is fed into your model during training and evaluation.\n",
        "\n"
      ],
      "metadata": {
        "id": "N5sxYSPncaqA"
      }
    },
    {
      "cell_type": "markdown",
      "source": [
        "# visualize the shape and content of a single batch of training data"
      ],
      "metadata": {
        "id": "SDzCa33IedSW"
      }
    },
    {
      "cell_type": "code",
      "source": [
        "# Obtain one batch of training data from the train_loader\n",
        "dataiter = iter(train_loader)  # Create an iterator from the DataLoader\n",
        "sample_x, sample_y = next(dataiter)  # Retrieve the next batch of features (sample_x) and labels (sample_y)\n",
        "\n",
        "# Print the size of the input features tensor\n",
        "print('Sample input size: ', sample_x.size())  # Output will be (batch_size, seq_length)\n",
        "# Print the actual input features for the current batch\n",
        "print('Sample input: \\n', sample_x)\n",
        "print()  # Print a newline for better readability\n",
        "\n",
        "# Print the size of the labels tensor\n",
        "print('Sample label size: ', sample_y.size())  # Output will be (batch_size,)\n",
        "# Print the actual labels corresponding to the input features\n",
        "print('Sample label: \\n', sample_y)"
      ],
      "metadata": {
        "colab": {
          "base_uri": "https://localhost:8080/"
        },
        "id": "q5xjLcV8l4bL",
        "outputId": "a47a5436-0dbd-4128-f251-c97169430a05"
      },
      "execution_count": 66,
      "outputs": [
        {
          "output_type": "stream",
          "name": "stdout",
          "text": [
            "Sample input size:  torch.Size([50, 200])\n",
            "Sample input: \n",
            " tensor([[    0,     0,     0,  ...,  1740,    48,    18],\n",
            "        [    8,   810,    14,  ...,     6,    20,   593],\n",
            "        [    0,     0,     0,  ...,   112,    21,  1670],\n",
            "        ...,\n",
            "        [    0,     0,     0,  ...,  3033,  2727,    59],\n",
            "        [    0,     0,     0,  ...,     6,    39,    11],\n",
            "        [    0,     0,     0,  ..., 10249,    15,    21]])\n",
            "\n",
            "Sample label size:  torch.Size([50])\n",
            "Sample label: \n",
            " tensor([1, 1, 0, 0, 0, 0, 0, 1, 1, 1, 0, 1, 1, 1, 1, 0, 0, 1, 1, 1, 0, 1, 1, 0,\n",
            "        0, 1, 0, 1, 1, 0, 1, 0, 1, 0, 1, 0, 0, 0, 1, 1, 1, 0, 1, 1, 0, 1, 0, 0,\n",
            "        0, 1])\n"
          ]
        }
      ]
    },
    {
      "cell_type": "markdown",
      "source": [
        "### Define the LSTM Network Architecture"
      ],
      "metadata": {
        "id": "I3OJWZDjmOKC"
      }
    },
    {
      "cell_type": "markdown",
      "source": [
        "Long Short-Term Memory (LSTM) networks are a special type of neural network designed to understand sequences of data, like sentences in text, stock prices over time, or audio signals.\n",
        "### Why Use LSTMs?\n",
        "\n",
        "\n",
        "*   Regular neural networks aren’t good at remembering information from earlier parts of a sequence when predicting the next part. This can be a problem when context is essential, like when understanding a sentence or tracking trends over time.\n",
        "*   LSTMs are designed specifically to handle this type of sequential information, making them popular for tasks involving time series, text, and other data that comes in sequences.\n",
        "\n",
        "\n"
      ],
      "metadata": {
        "id": "kuSGQCJl6e1x"
      }
    },
    {
      "cell_type": "markdown",
      "source": [
        "### How LSTMs Work\n",
        "\n",
        "\n",
        "*   **Neurons That \"Remember\":** In an LSTM, each \"neuron\" or unit is more than just a simple cell. Each unit has a memory cell that can \"remember\" values over long sequences, allowing it to keep track of important information while \"forgetting\" irrelevant parts.\n",
        "\n",
        "*   **Gatse:** LSTMs have mechanisms called \"gates\" that control what information to keep, what to update, and what to forget. Think of these as switches:\n",
        "\n",
        "\n",
        "1.   **Forget Gate:** Decides what information to discard.\n",
        "\n",
        "1.   **Input Gate:** Determines what new information to store.\n",
        "2.   **Output Gate:** Chooses what to output from the memory to influence the next prediction.\n",
        "\n",
        "\n",
        "\n",
        "*   By combining these gates, LSTMs can learn which information is important to remember and which can be safely forgotten.\n",
        "\n",
        "\n",
        "\n",
        "\n"
      ],
      "metadata": {
        "id": "z57ZIJ1F60jW"
      }
    },
    {
      "cell_type": "markdown",
      "source": [
        "![image.png](data:image/png;base64,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)"
      ],
      "metadata": {
        "id": "odmboPuR79Bv"
      }
    },
    {
      "cell_type": "markdown",
      "source": [
        "### Forget Gate\n",
        "The information that is no longer useful in the cell state is removed with the forget gate. Two inputs xt (input at the particular time) and ht-1 (previous cell output) are fed to the gate and multiplied with weight matrices followed by the addition of bias. The resultant is passed through an activation function which gives a binary output. If for a particular cell state the output is 0, the piece of information is forgotten and for output 1, the information is retained for future use. The equation for the forget gate is:\n",
        "\n",
        "\n",
        "f\n",
        "t\n",
        "=\n",
        "σ\n",
        "(\n",
        "W\n",
        "_\n",
        "f\n",
        "⋅\n",
        "[\n",
        "h\n",
        "_\n",
        "t\n",
        "−\n",
        "1\n",
        ",\n",
        "x\n",
        "_\n",
        "t\n",
        "]\n",
        "+\n",
        "b\n",
        "_\n",
        "f\n",
        ")\n",
        "\n",
        "\n",
        " where:\n",
        "\n",
        " W_f represents the weight matrix associated with the forget gate.\n",
        "\n",
        "[h_t-1, x_t] denotes the concatenation of the current input and the previous hidden state.\n",
        "\n",
        "b_f is the bias with the forget gate.\n",
        "\n",
        "σ is the sigmoid activation function."
      ],
      "metadata": {
        "id": "ORn_dcht8pNl"
      }
    },
    {
      "cell_type": "markdown",
      "source": [
        "\n",
        "<img src=\"https://media.geeksforgeeks.org/wp-content/uploads/20231123171949/newContent2.jpg\" width=\"200\" height=\"300\">\n",
        "\n"
      ],
      "metadata": {
        "id": "p27TBJPj9Ohd"
      }
    },
    {
      "cell_type": "markdown",
      "source": [
        "### Input gate\n",
        "The addition of useful information to the cell state is done by the input gate. First, the information is regulated using the sigmoid function and filter the values to be remembered similar to the forget gate using inputs ht-1 and xt. . Then, a vector is created using tanh function that gives an output from -1 to +1, which contains all the possible values from ht-1 and xt. At last, the values of the vector and the regulated values are multiplied to obtain the useful information. The equation for the input gate is:\n",
        "\n",
        "\n",
        "i\n",
        "t\n",
        "=\n",
        "σ\n",
        "(\n",
        "W\n",
        "i\n",
        "⋅\n",
        "[\n",
        "h\n",
        "t\n",
        "−\n",
        "1\n",
        ",\n",
        "x\n",
        "t\n",
        "]\n",
        "+\n",
        "b\n",
        "i\n",
        ")\n",
        "\n",
        "C\n",
        "^\n",
        "t\n",
        "=\n",
        "t\n",
        "a\n",
        "n\n",
        "h\n",
        "(\n",
        "W\n",
        "c\n",
        "⋅\n",
        "[\n",
        "h\n",
        "t\n",
        "−\n",
        "1\n",
        ",\n",
        "x\n",
        "t\n",
        "]\n",
        "+\n",
        "b\n",
        "c\n",
        ")\n",
        "\n",
        "We multiply the previous state by ft, disregarding the information we had previously chosen to ignore. Next, we include it∗Ct. This represents the updated candidate values, adjusted for the amount that we chose to update each state value.\n",
        "\n",
        "C\n",
        "t\n",
        "=\n",
        "f\n",
        "t\n",
        "⊙\n",
        "C\n",
        "t\n",
        "−\n",
        "1\n",
        "+\n",
        "i\n",
        "t\n",
        "⊙\n",
        "C\n",
        "^\n",
        "t\n",
        "\n",
        "where\n",
        "\n",
        " ⊙ denotes element-wise multiplication\n",
        "\n",
        "tanh is tanh activation function"
      ],
      "metadata": {
        "id": "kbTHp9n6_Ncc"
      }
    },
    {
      "cell_type": "markdown",
      "source": [
        "<img src=\"https://media.geeksforgeeks.org/wp-content/uploads/20240208104902/bruh.webp\" width=\"400\" height=\"300\">"
      ],
      "metadata": {
        "id": "fUfsmGyD_rnY"
      }
    },
    {
      "cell_type": "markdown",
      "source": [
        "### Output gate\n",
        "The task of extracting useful information from the current cell state to be presented as output is done by the output gate. First, a vector is generated by applying tanh function on the cell. Then, the information is regulated using the sigmoid function and filter by the values to be remembered using inputs\n",
        "h\n",
        "t−1\n",
        "​\n",
        " and\n",
        "x\n",
        "t\n",
        " . At last, the values of the vector and the regulated values are multiplied to be sent as an output and input to the next cell. The equation for the output gate is:\n",
        "\n",
        "o\n",
        "t\n",
        "=\n",
        "σ\n",
        "(\n",
        "W\n",
        "o\n",
        "⋅\n",
        "[\n",
        "h\n",
        "t\n",
        "−\n",
        "1\n",
        ",\n",
        "x\n",
        "t\n",
        "]\n",
        "+\n",
        "b\n",
        "o\n",
        ")"
      ],
      "metadata": {
        "id": "xrav3yV8AFnR"
      }
    },
    {
      "cell_type": "markdown",
      "source": [
        "<img src=\"https://media.geeksforgeeks.org/wp-content/uploads/20240208104902/bruh.webp\" width=\"400\" height=\"200\">\n"
      ],
      "metadata": {
        "id": "pnpid3oIASPD"
      }
    },
    {
      "cell_type": "code",
      "source": [
        "%%writefile scripts/model_def.py\n",
        "\n",
        "import torch.nn as nn\n",
        "\n",
        "class SentimentLSTM(nn.Module):\n",
        "    \"\"\"\n",
        "    The RNN model that will be used to perform Sentiment analysis.\n",
        "    \"\"\"\n",
        "\n",
        "    def __init__(self, vocab_size, output_size, embedding_dim, hidden_dim, n_layers, drop_prob=0.5):\n",
        "        \"\"\"\n",
        "        Initialize the model by setting up the layers.\n",
        "\n",
        "        Parameters:\n",
        "        - vocab_size: Size of the vocabulary (number of unique words) used for embedding.\n",
        "        - output_size: The number of classes we want to predict (e.g., 1 for binary classification).\n",
        "        - embedding_dim: Dimensionality of the embedding layer (how many features to represent each word).\n",
        "        - hidden_dim: Number of features in the hidden state of the LSTM (how much information it can hold).\n",
        "        - n_layers: The number of stacked LSTM layers (how deep the network is).\n",
        "        - drop_prob: Probability of dropping out units in the dropout layer to prevent overfitting.\n",
        "        \"\"\"\n",
        "        super().__init__()  # Call the initializer of the parent class (nn.Module) to ensure that everything is set up properly.\n",
        "\n",
        "        self.output_size = output_size  # Store output size\n",
        "        self.n_layers = n_layers          # Store number of LSTM layers\n",
        "        self.hidden_dim = hidden_dim      # Store hidden dimension size\n",
        "\n",
        "        # Embedding layer to convert word indices into dense vectors\n",
        "        self.embedding = nn.Embedding(vocab_size, embedding_dim)\n",
        "\n",
        "        # LSTM layer with specified parameters\n",
        "        self.lstm = nn.LSTM(embedding_dim, hidden_dim, n_layers,\n",
        "                            dropout=drop_prob, batch_first=True)\n",
        "\n",
        "        # Dropout layer to help prevent overfitting\n",
        "        self.dropout = nn.Dropout(0.3)\n",
        "\n",
        "        # Fully connected layer to produce output from LSTM outputs\n",
        "        self.fc = nn.Linear(hidden_dim, output_size)\n",
        "\n",
        "        # Sigmoid layer for output activation (to squash values between 0 and 1)\n",
        "        self.sig = nn.Sigmoid()\n",
        "\n",
        "    def forward(self, x, hidden):\n",
        "        \"\"\"\n",
        "        Perform a forward pass of our model on some input and hidden state.\n",
        "\n",
        "        Parameters:\n",
        "        - x: Input batch of word indices.\n",
        "        - hidden: The hidden state of the LSTM from the previous time step.\n",
        "\n",
        "        Returns:\n",
        "        - sig_out: The output probabilities for each input in the batch.\n",
        "        - hidden: The hidden state for the next time step.\n",
        "        \"\"\"\n",
        "        batch_size = x.size(0)  # Get the batch size from the input\n",
        "\n",
        "        # Get the embeddings for the input word indices\n",
        "        embeds = self.embedding(x)\n",
        "        # Pass the embeddings through the LSTM layer, which processes the sequence of word embeddings and updates the hidden state.\n",
        "        lstm_out, hidden = self.lstm(embeds, hidden)\n",
        "\n",
        "        # Reshape lstm_out for the fully connected layer\n",
        "        lstm_out = lstm_out.contiguous().view(-1, self.hidden_dim)\n",
        "\n",
        "        # Apply dropout for regularization\n",
        "        out = self.dropout(lstm_out)\n",
        "        # Pass the output through the fully connected layer\n",
        "        out = self.fc(out)\n",
        "        # Apply the sigmoid activation function\n",
        "        sig_out = self.sig(out)\n",
        "\n",
        "        # Reshape the output to be batch_size first\n",
        "        sig_out = sig_out.view(batch_size, -1)\n",
        "        sig_out = sig_out[:, -1]  # Get the last output from the sequence\n",
        "\n",
        "        # Return the last sigmoid output and the hidden state\n",
        "        return sig_out, hidden\n",
        "\n",
        "    def init_hidden(self, batch_size):\n",
        "        ''' Initializes hidden state '''\n",
        "        # Create two new tensors with sizes n_layers x batch_size x hidden_dim,\n",
        "        # initialized to zero, for hidden state and cell state of LSTM\n",
        "        weight = next(self.parameters()).data  # Get the weight of the model to determine the device (CPU/GPU)\n",
        "\n",
        "        if (train_on_gpu):  # Check if training on GPU\n",
        "            hidden = (weight.new(self.n_layers, batch_size, self.hidden_dim).zero_().cuda(),  # Initialize hidden state on GPU\n",
        "                      weight.new(self.n_layers, batch_size, self.hidden_dim).zero_().cuda())  # Initialize cell state on GPU\n",
        "        else:\n",
        "            hidden = (weight.new(self.n_layers, batch_size, self.hidden_dim).zero_(),  # Initialize hidden state on CPU\n",
        "                      weight.new(self.n_layers, batch_size, self.hidden_dim).zero_())  # Initialize cell state on CPU\n",
        "\n",
        "        return hidden  # Return the initialized hidden state, which will be used for processing the input sequences.\n"
      ],
      "metadata": {
        "id": "u6x_j2ewl9UB",
        "colab": {
          "base_uri": "https://localhost:8080/"
        },
        "outputId": "72bd2d62-056a-4920-fc6b-f804aa30be9e"
      },
      "execution_count": 160,
      "outputs": [
        {
          "output_type": "stream",
          "name": "stdout",
          "text": [
            "Writing scripts/model_def.py\n"
          ]
        }
      ]
    },
    {
      "cell_type": "markdown",
      "source": [
        "### Summary of this code\n",
        "\n",
        "\n",
        "*   **Embedding Layer:** Transforms word indices into dense vectors, allowing the model to understand words better.\n",
        "*   **LSTM Layer:** Processes the sequence of embeddings, maintaining a hidden state that carries information across time steps.\n",
        "\n",
        "*   **Dropout Layer:** Helps prevent overfitting by randomly dropping some units during training.\n",
        "\n",
        "*   **Fully Connected Layer:** Produces the final output based on the information from the LSTM.\n",
        "*   **Sigmoid Activation:** Squashes the output to a range of 0 to 1, suitable for binary classification.\n",
        "\n",
        "\n",
        "\n",
        "\n"
      ],
      "metadata": {
        "id": "dj0DJvLkuguc"
      }
    },
    {
      "cell_type": "markdown",
      "source": [
        "![image.png](data:image/png;base64,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)"
      ],
      "metadata": {
        "id": "WXMgeVcXdze-"
      }
    },
    {
      "cell_type": "markdown",
      "source": [
        "### Train the network"
      ],
      "metadata": {
        "id": "2TuCDkO_mx-W"
      }
    },
    {
      "cell_type": "code",
      "source": [
        "# Instantiate the model with hyperparams\n",
        "vocab_size = len(stoi)+1 # +1 for the 0 padding\n",
        "output_size = 1 # Positive or negative sentiment\n",
        "embedding_dim = 400 # Each word in the vocabulary will be represented as a 400-dimensional vector.\n",
        "hidden_dim = 256 # Number of hidden units in the LSTM layers.\n",
        "n_layers = 2 # Number of stacked LSTM layers.\n",
        "net = SentimentLSTM(vocab_size, output_size, embedding_dim, hidden_dim, n_layers)\n",
        "\n",
        "print(net)"
      ],
      "metadata": {
        "colab": {
          "base_uri": "https://localhost:8080/"
        },
        "id": "7xgwPDPJmt_p",
        "outputId": "c8f43c1b-c351-415f-9d6c-76d3d8ce4165"
      },
      "execution_count": 68,
      "outputs": [
        {
          "output_type": "stream",
          "name": "stdout",
          "text": [
            "SentimentLSTM(\n",
            "  (embedding): Embedding(222573, 400)\n",
            "  (lstm): LSTM(400, 256, num_layers=2, batch_first=True, dropout=0.5)\n",
            "  (dropout): Dropout(p=0.3, inplace=False)\n",
            "  (fc): Linear(in_features=256, out_features=1, bias=True)\n",
            "  (sig): Sigmoid()\n",
            ")\n"
          ]
        }
      ]
    },
    {
      "cell_type": "code",
      "source": [
        "# First checking if GPU is available\n",
        "train_on_gpu=torch.cuda.is_available()\n",
        "\n",
        "if(train_on_gpu):\n",
        "    print('Training on GPU.')\n",
        "else:\n",
        "    print('No GPU available, training on CPU.')"
      ],
      "metadata": {
        "colab": {
          "base_uri": "https://localhost:8080/"
        },
        "id": "gLxLYDJcm2Q-",
        "outputId": "57a78230-8c4a-4506-d779-273f0e89cc22"
      },
      "execution_count": 69,
      "outputs": [
        {
          "output_type": "stream",
          "name": "stdout",
          "text": [
            "Training on GPU.\n"
          ]
        }
      ]
    },
    {
      "cell_type": "markdown",
      "source": [
        "# Training Loop"
      ],
      "metadata": {
        "id": "uj555fVJyCfN"
      }
    },
    {
      "cell_type": "markdown",
      "source": [
        "Setting up the loss function and optimization method for training the SentimentLSTM model."
      ],
      "metadata": {
        "id": "-5lE_pvOwZUl"
      }
    },
    {
      "cell_type": "code",
      "source": [
        "# loss and optimization functions\n",
        "lr=0.001 # Size of the steps the optimizer takes in adjusting model weights during training\n",
        "\n",
        "# loss function\n",
        "criterion = nn.BCELoss() # Binary Cross-Entropy Loss\n",
        "\n",
        "# optimizer\n",
        "optimizer = torch.optim.Adam(net.parameters(), lr=lr)"
      ],
      "metadata": {
        "id": "74TusfBonAcq"
      },
      "execution_count": 70,
      "outputs": []
    },
    {
      "cell_type": "markdown",
      "source": [
        "Training the model while displaying key metrics."
      ],
      "metadata": {
        "id": "fjuS2GKr1s94"
      }
    },
    {
      "cell_type": "code",
      "source": [
        "# training params\n",
        "\n",
        "epochs = 4 # 3-4 is approx where I noticed the validation loss stop decreasing\n",
        "\n",
        "counter = 0 # Counts the number of training steps\n",
        "print_every = 100 # Print loss every 100 batches\n",
        "clip=5 # gradient clipping to avoid exploding gradients\n",
        "\n",
        "# move model to GPU, if available\n",
        "if(train_on_gpu):\n",
        "    net.cuda()\n",
        "\n",
        "net.train()\n",
        "# train for some number of epochs\n",
        "for e in range(epochs):\n",
        "    # initialize hidden state\n",
        "    h = net.init_hidden(batch_size) # Initialize hidden state at the start of each epoch\n",
        "\n",
        "    # batch loop\n",
        "    for inputs, labels in train_loader:\n",
        "        counter += 1\n",
        "        #print(counter)\n",
        "\n",
        "        if(train_on_gpu):\n",
        "            inputs, labels = inputs.cuda(), labels.cuda()\n",
        "\n",
        "        # Creating new variables for the hidden state, otherwise we'd backprop through the entire training history\n",
        "        h = tuple([each.data for each in h])\n",
        "\n",
        "        # zero accumulated gradients\n",
        "        net.zero_grad()\n",
        "\n",
        "        # get the output from the model (Forward pass)\n",
        "        output, h = net(inputs, h)\n",
        "\n",
        "        # calculate the loss and perform backprop\n",
        "        loss = criterion(output.squeeze(), labels.float())\n",
        "        loss.backward()\n",
        "        # `clip_grad_norm` helps prevent the exploding gradient problem in RNNs / LSTMs.\n",
        "        nn.utils.clip_grad_norm_(net.parameters(), clip)\n",
        "        optimizer.step() # Update the weights\n",
        "\n",
        "        # loss stats\n",
        "        if counter % print_every == 0:\n",
        "            # Get validation loss\n",
        "            val_h = net.init_hidden(batch_size) # Reinitialize hidden state for validation\n",
        "            val_losses = []\n",
        "            net.eval() # Switch to evaluation mode (no gradient tracking)\n",
        "\n",
        "            for inputs, labels in valid_loader:\n",
        "                # Creating new variables for the hidden state, otherwise\n",
        "                # we'd backprop through the entire training history\n",
        "                val_h = tuple([each.data for each in val_h])\n",
        "\n",
        "                if(train_on_gpu):\n",
        "                    inputs, labels = inputs.cuda(), labels.cuda()\n",
        "\n",
        "                output, val_h = net(inputs, val_h)\n",
        "                val_loss = criterion(output.squeeze(), labels.float())\n",
        "\n",
        "                val_losses.append(val_loss.item())\n",
        "\n",
        "            net.train()\n",
        "            print(\"Epoch: {}/{}...\".format(e+1, epochs),\n",
        "                  \"Step: {}...\".format(counter),\n",
        "                  \"Train Loss: {:.6f}...\".format(loss.item()),\n",
        "                  \"Val Loss: {:.6f}\".format(np.mean(val_losses)))"
      ],
      "metadata": {
        "colab": {
          "base_uri": "https://localhost:8080/"
        },
        "id": "90VozqCwnEaC",
        "outputId": "10c1072e-c8a8-4a4d-b296-90db3a2a60d7"
      },
      "execution_count": 71,
      "outputs": [
        {
          "output_type": "stream",
          "name": "stdout",
          "text": [
            "Epoch: 1/4... Step: 100... Train Loss: 0.627943... Val Loss: 0.650029\n",
            "Epoch: 1/4... Step: 200... Train Loss: 0.713826... Val Loss: 0.634273\n",
            "Epoch: 1/4... Step: 300... Train Loss: 0.578264... Val Loss: 0.590427\n",
            "Epoch: 1/4... Step: 400... Train Loss: 0.619475... Val Loss: 0.566009\n",
            "Epoch: 1/4... Step: 500... Train Loss: 0.567993... Val Loss: 0.533510\n",
            "Epoch: 1/4... Step: 600... Train Loss: 0.401918... Val Loss: 0.507007\n",
            "Epoch: 1/4... Step: 700... Train Loss: 0.464233... Val Loss: 0.420293\n",
            "Epoch: 1/4... Step: 800... Train Loss: 0.294842... Val Loss: 0.415246\n",
            "Epoch: 2/4... Step: 900... Train Loss: 0.270894... Val Loss: 0.408655\n",
            "Epoch: 2/4... Step: 1000... Train Loss: 0.326965... Val Loss: 0.392517\n",
            "Epoch: 2/4... Step: 1100... Train Loss: 0.378470... Val Loss: 0.386721\n",
            "Epoch: 2/4... Step: 1200... Train Loss: 0.355002... Val Loss: 0.390175\n",
            "Epoch: 2/4... Step: 1300... Train Loss: 0.397751... Val Loss: 0.388033\n",
            "Epoch: 2/4... Step: 1400... Train Loss: 0.409078... Val Loss: 0.419433\n",
            "Epoch: 2/4... Step: 1500... Train Loss: 0.328161... Val Loss: 0.352363\n",
            "Epoch: 2/4... Step: 1600... Train Loss: 0.173247... Val Loss: 0.362790\n",
            "Epoch: 3/4... Step: 1700... Train Loss: 0.261015... Val Loss: 0.368342\n",
            "Epoch: 3/4... Step: 1800... Train Loss: 0.360147... Val Loss: 0.360879\n",
            "Epoch: 3/4... Step: 1900... Train Loss: 0.133364... Val Loss: 0.368954\n",
            "Epoch: 3/4... Step: 2000... Train Loss: 0.128272... Val Loss: 0.389741\n",
            "Epoch: 3/4... Step: 2100... Train Loss: 0.447526... Val Loss: 0.391955\n",
            "Epoch: 3/4... Step: 2200... Train Loss: 0.112567... Val Loss: 0.362138\n",
            "Epoch: 3/4... Step: 2300... Train Loss: 0.238966... Val Loss: 0.347283\n",
            "Epoch: 3/4... Step: 2400... Train Loss: 0.222682... Val Loss: 0.359667\n",
            "Epoch: 4/4... Step: 2500... Train Loss: 0.141421... Val Loss: 0.424895\n",
            "Epoch: 4/4... Step: 2600... Train Loss: 0.077126... Val Loss: 0.427490\n",
            "Epoch: 4/4... Step: 2700... Train Loss: 0.048049... Val Loss: 0.401889\n",
            "Epoch: 4/4... Step: 2800... Train Loss: 0.108360... Val Loss: 0.416182\n",
            "Epoch: 4/4... Step: 2900... Train Loss: 0.262443... Val Loss: 0.392110\n",
            "Epoch: 4/4... Step: 3000... Train Loss: 0.194155... Val Loss: 0.390398\n",
            "Epoch: 4/4... Step: 3100... Train Loss: 0.120117... Val Loss: 0.428783\n",
            "Epoch: 4/4... Step: 3200... Train Loss: 0.101368... Val Loss: 0.460499\n"
          ]
        }
      ]
    },
    {
      "cell_type": "markdown",
      "source": [
        "Evaluating the trained model on the test dataset, calculating the average test loss, and computing the accuracy."
      ],
      "metadata": {
        "id": "qXuEE5tf16B-"
      }
    },
    {
      "cell_type": "code",
      "source": [
        "# Get test data loss and accuracy\n",
        "\n",
        "test_losses = [] # track loss\n",
        "num_correct = 0 # Counter to track the number of correct predictions\n",
        "\n",
        "# init hidden state\n",
        "h = net.init_hidden(batch_size)\n",
        "\n",
        "net.eval() # Set the model to evaluation mode to disable dropout layers\n",
        "# iterate over test data\n",
        "for inputs, labels in test_loader:\n",
        "\n",
        "    # Creating new variables for the hidden state, otherwise\n",
        "    # we'd backprop through the entire training history\n",
        "    h = tuple([each.data for each in h]) # Reset hidden state for each batch\n",
        "\n",
        "    if(train_on_gpu):\n",
        "        inputs, labels = inputs.cuda(), labels.cuda()\n",
        "\n",
        "    # Get model predictions and new hidden state\n",
        "    output, h = net(inputs, h)\n",
        "\n",
        "    # calculate loss\n",
        "    test_loss = criterion(output.squeeze(), labels.float())  # Calculate the loss for the batch\n",
        "    test_losses.append(test_loss.item())  # Store the loss value\n",
        "\n",
        "    # convert output probabilities to predicted class (0 or 1)\n",
        "    pred = torch.round(output.squeeze())  # rounds to the nearest integer\n",
        "\n",
        "    # compare predictions to true label\n",
        "    correct_tensor = pred.eq(labels.float().view_as(pred))\n",
        "    correct = np.squeeze(correct_tensor.numpy()) if not train_on_gpu else np.squeeze(correct_tensor.cpu().numpy())\n",
        "    num_correct += np.sum(correct)\n",
        "\n",
        "\n",
        "# avg test loss\n",
        "print(\"Test loss: {:.3f}\".format(np.mean(test_losses)))\n",
        "\n",
        "# accuracy over all test data\n",
        "test_acc = num_correct/len(test_loader.dataset)\n",
        "print(\"Test accuracy: {:.3f}\".format(test_acc))"
      ],
      "metadata": {
        "colab": {
          "base_uri": "https://localhost:8080/"
        },
        "id": "AHPGMj0fnICl",
        "outputId": "6181596c-c78a-4803-d5c8-3df06bc7d02a"
      },
      "execution_count": 72,
      "outputs": [
        {
          "output_type": "stream",
          "name": "stdout",
          "text": [
            "Test loss: 0.454\n",
            "Test accuracy: 0.845\n"
          ]
        }
      ]
    },
    {
      "cell_type": "code",
      "source": [
        "# negative test review\n",
        "test_review_neg = 'The worst movie I have seen; acting was terrible and I want my money back. This movie had bad acting and the dialogue was slow.'"
      ],
      "metadata": {
        "id": "BveorNWyoHoo"
      },
      "execution_count": 73,
      "outputs": []
    },
    {
      "cell_type": "code",
      "source": [
        "%%writefile scripts/preprocess.py\n",
        "\n",
        "def preprocess(review, stoi, reviews_int=None):\n",
        "    \"\"\"\n",
        "    Preprocess the review text by converting it to lowercase,\n",
        "    splitting it into words, and mapping words to integers using the stoi dictionary.\n",
        "\n",
        "    Args:\n",
        "    review (str): The text of the review.\n",
        "    stoi (dict): A dictionary mapping words to integer values.\n",
        "    reviews_int (list): A list to store integer representations of the reviews (optional).\n",
        "\n",
        "    Returns:\n",
        "    list: A list of integers representing the words in the review.\n",
        "    \"\"\"\n",
        "    # If reviews_int is not provided, initialize it as an empty list\n",
        "    if reviews_int is None:\n",
        "        reviews_int = []\n",
        "\n",
        "    review = review.lower()  # Convert the review to lowercase for consistency\n",
        "    word_list = review.split()  # Split the review into individual words\n",
        "    num_list = []  # Initialize an empty list to store the integer representations of words\n",
        "\n",
        "    for word in word_list:\n",
        "        if word in stoi.keys():  # Check if the word exists in the stoi dictionary\n",
        "            num_list.append(stoi[word])  # Append the integer corresponding to the word\n",
        "\n",
        "    # Append the processed review's integer list to reviews_int\n",
        "    reviews_int.append(num_list)\n",
        "\n",
        "    return num_list  # Return the list of integers for the current review"
      ],
      "metadata": {
        "id": "RRvTfGEWoOX8",
        "colab": {
          "base_uri": "https://localhost:8080/"
        },
        "outputId": "86658bd4-045b-4aef-b5f0-e066098794c3"
      },
      "execution_count": 165,
      "outputs": [
        {
          "output_type": "stream",
          "name": "stdout",
          "text": [
            "Writing scripts/preprocess.py\n"
          ]
        }
      ]
    },
    {
      "cell_type": "code",
      "source": [
        "%%writefile scripts/predict.py\n",
        "\n",
        "def predict(net, test_review, sequence_length=200):\n",
        "    ''' Prints out whether a give review is predicted to be\n",
        "        positive or negative in sentiment, using a trained model.\n",
        "\n",
        "        params:\n",
        "        net - A trained net\n",
        "        test_review - a review made of normal text and punctuation\n",
        "        sequence_length - the padded length of a review\n",
        "        '''\n",
        "    #change the reviews to sequence of integers\n",
        "    int_rev = preprocess(test_review, stoi)\n",
        "    #pad the reviews as per the sequence length of the feature\n",
        "    features = pad_features(int_rev, seq_length=sequence_length)\n",
        "\n",
        "    #changing the features to PyTorch tensor\n",
        "    features = torch.from_numpy(features)\n",
        "\n",
        "    #pass the features to the model to get prediction\n",
        "    net.eval()\n",
        "    # Get the batch size from features shape\n",
        "    batch_size = features.shape[0]\n",
        "    val_h = net.init_hidden(batch_size) # Initialize hidden state with correct batch size\n",
        "\n",
        "    val_h = tuple([each.data for each in val_h])\n",
        "\n",
        "    if(train_on_gpu):\n",
        "        features = features.cuda()\n",
        "\n",
        "    output, val_h = net(features, val_h)\n",
        "\n",
        "    # Get the prediction for the entire review by taking the mean prediction\n",
        "    pred = torch.round(torch.mean(output))\n",
        "\n",
        "    #mapping the numeric values to postive or negative\n",
        "    output = \"Positive\" if pred.item() == 1 else \"Negative\"\n",
        "\n",
        "    # print custom response based on whether test_review is pos/neg\n",
        "    return output"
      ],
      "metadata": {
        "id": "5L2n3iNsoQSc",
        "colab": {
          "base_uri": "https://localhost:8080/"
        },
        "outputId": "8c75bd4a-f362-46c7-f621-e872b7ff516e"
      },
      "execution_count": 166,
      "outputs": [
        {
          "output_type": "stream",
          "name": "stdout",
          "text": [
            "Overwriting scripts/predict.py\n"
          ]
        }
      ]
    },
    {
      "cell_type": "code",
      "source": [
        "def pad_features(reviews_int, seq_length):\n",
        "    \"\"\"\n",
        "    Pads or truncates input reviews to a fixed length.\n",
        "    Supports both single review and batch of reviews.\n",
        "    \"\"\"\n",
        "    # Getting the correct rows x cols shape\n",
        "    features = np.zeros((1 if isinstance(reviews_int[0], int) else len(reviews_int), seq_length), dtype=int)\n",
        "\n",
        "    # For each review, I grab that review and\n",
        "    if isinstance(reviews_int[0], int):  # Check if reviews_int is a list of integers (single review\n",
        "        truncated = np.array(reviews_int)[:seq_length]  # If so, treat it as a single review\n",
        "        features[0, -len(truncated):] = truncated   # Pad or truncate the review\n",
        "    else:  # Otherwise, treat it as a list of reviews\n",
        "        for i, review in enumerate(reviews_int):\n",
        "            # Take the last `seq_length` elements if the review is longer, else use entire review\n",
        "            truncated = np.array(review)[:seq_length]\n",
        "            features[i, -len(truncated):] = truncated   # Pad or truncate the review\n",
        "\n",
        "    return features\n"
      ],
      "metadata": {
        "id": "d-7WOO1DYDsV"
      },
      "execution_count": 167,
      "outputs": []
    },
    {
      "cell_type": "code",
      "source": [
        "# positive test review\n",
        "test_review_pos = 'The movie was fantastic and thrilling!.'"
      ],
      "metadata": {
        "id": "CAcpFhSRJd2u"
      },
      "execution_count": 168,
      "outputs": []
    },
    {
      "cell_type": "code",
      "source": [
        "seq_length = 200\n",
        "predict(net, test_review_pos, seq_length)"
      ],
      "metadata": {
        "colab": {
          "base_uri": "https://localhost:8080/",
          "height": 36
        },
        "id": "IpOror7UNSp2",
        "outputId": "4bdad2c1-8a84-4a6c-ae39-25ba51039db8"
      },
      "execution_count": 169,
      "outputs": [
        {
          "output_type": "execute_result",
          "data": {
            "text/plain": [
              "'Positive'"
            ],
            "application/vnd.google.colaboratory.intrinsic+json": {
              "type": "string"
            }
          },
          "metadata": {},
          "execution_count": 169
        }
      ]
    },
    {
      "source": [
        "import os\n",
        "\n",
        "# Create the 'model' directory\n",
        "os.makedirs('model', exist_ok=True)\n",
        "\n",
        "# Now save the model's state dictionary\n",
        "torch.save(net.state_dict(), 'model/trained_model.pt')"
      ],
      "cell_type": "code",
      "metadata": {
        "id": "0wWsSxhQb0WE"
      },
      "execution_count": 171,
      "outputs": []
    },
    {
      "cell_type": "code",
      "source": [
        "from IPython.display import HTML\n",
        "import ipywidgets as widgets\n",
        "from IPython.display import display\n",
        "\n",
        "# Create input widgets\n",
        "review_input = widgets.Textarea(\n",
        "    placeholder=\"Enter your movie review here...\",\n",
        "    description=\"Review:\",\n",
        "    layout=widgets.Layout(width='600px', height='100px'),\n",
        "    disabled=False\n",
        ")\n",
        "\n",
        "predict_button = widgets.Button(description=\"Predict Sentiment\", button_style='info')\n",
        "prediction_output = widgets.Output()\n",
        "\n",
        "# Define button click handler\n",
        "def on_button_click(b):\n",
        "    with prediction_output:\n",
        "        prediction_output.clear_output()\n",
        "        review = review_input.value.strip()\n",
        "        if review:\n",
        "            sentiment = predict(net, review, sequence_length=200)\n",
        "\n",
        "            # Set color based on sentiment\n",
        "            color = \"green\" if sentiment == \"Positive\" else \"red\"\n",
        "\n",
        "            # Format HTML response\n",
        "            html_result = f\"\"\"\n",
        "            <div style=\"font-size:16px;\">\n",
        "                <strong>Predicted Sentiment:</strong> <span style=\"color:{color}; font-weight:bold;\">{sentiment}</span><br>\n",
        "            </div>\n",
        "            \"\"\"\n",
        "            display(HTML(html_result))\n",
        "        else:\n",
        "            display(HTML(\"<span style='color:gray;'>Please enter a review.</span>\"))\n",
        "\n",
        "# Attach event\n",
        "predict_button.on_click(on_button_click)\n",
        "\n",
        "# Display widgets\n",
        "display(review_input, predict_button, prediction_output)\n"
      ],
      "metadata": {
        "colab": {
          "base_uri": "https://localhost:8080/",
          "height": 173,
          "referenced_widgets": [
            "d1bcfbdb1dd247779ee9eb84eb44ae21",
            "6f51beed6abd452abf7a41d345f62b93",
            "425a1255b9754a4f8ee25f057ab66840",
            "c8233a3bf8ad4b639a5b819674fb7f4b",
            "9f0e6e1367254600929f139d2834a244",
            "919c218d29094f8e83c5c754f3b4ba79",
            "dab3abc4e8da451d96cc00216163fe66",
            "d59422bc1591453785b2a7dcde43a286"
          ]
        },
        "id": "ok8FpioqP2hw",
        "outputId": "e5de44d1-289e-4129-fb2e-7fdd4ed3018c"
      },
      "execution_count": 156,
      "outputs": [
        {
          "output_type": "display_data",
          "data": {
            "text/plain": [
              "Textarea(value='', description='Review:', layout=Layout(height='100px', width='600px'), placeholder='Enter you…"
            ],
            "application/vnd.jupyter.widget-view+json": {
              "version_major": 2,
              "version_minor": 0,
              "model_id": "d1bcfbdb1dd247779ee9eb84eb44ae21"
            }
          },
          "metadata": {}
        },
        {
          "output_type": "display_data",
          "data": {
            "text/plain": [
              "Button(button_style='info', description='Predict Sentiment', style=ButtonStyle())"
            ],
            "application/vnd.jupyter.widget-view+json": {
              "version_major": 2,
              "version_minor": 0,
              "model_id": "c8233a3bf8ad4b639a5b819674fb7f4b"
            }
          },
          "metadata": {}
        },
        {
          "output_type": "display_data",
          "data": {
            "text/plain": [
              "Output()"
            ],
            "application/vnd.jupyter.widget-view+json": {
              "version_major": 2,
              "version_minor": 0,
              "model_id": "dab3abc4e8da451d96cc00216163fe66"
            }
          },
          "metadata": {}
        }
      ]
    },
    {
      "cell_type": "code",
      "source": [],
      "metadata": {
        "id": "94nCs9AGP4sP"
      },
      "execution_count": 78,
      "outputs": []
    }
  ],
  "metadata": {
    "accelerator": "GPU",
    "colab": {
      "gpuType": "T4",
      "provenance": []
    },
    "kernelspec": {
      "display_name": "Python 3",
      "name": "python3"
    },
    "language_info": {
      "name": "python"
    },
    "widgets": {
      "application/vnd.jupyter.widget-state+json": {
        "d1bcfbdb1dd247779ee9eb84eb44ae21": {
          "model_module": "@jupyter-widgets/controls",
          "model_name": "TextareaModel",
          "model_module_version": "1.5.0",
          "state": {
            "_dom_classes": [],
            "_model_module": "@jupyter-widgets/controls",
            "_model_module_version": "1.5.0",
            "_model_name": "TextareaModel",
            "_view_count": null,
            "_view_module": "@jupyter-widgets/controls",
            "_view_module_version": "1.5.0",
            "_view_name": "TextareaView",
            "continuous_update": true,
            "description": "Review:",
            "description_tooltip": null,
            "disabled": false,
            "layout": "IPY_MODEL_6f51beed6abd452abf7a41d345f62b93",
            "placeholder": "Enter your movie review here...",
            "rows": null,
            "style": "IPY_MODEL_425a1255b9754a4f8ee25f057ab66840",
            "value": "The worst movie I have seen; acting was terrible and I want my money back. This movie had bad acting and the dialogue was slow."
          }
        },
        "6f51beed6abd452abf7a41d345f62b93": {
          "model_module": "@jupyter-widgets/base",
          "model_name": "LayoutModel",
          "model_module_version": "1.2.0",
          "state": {
            "_model_module": "@jupyter-widgets/base",
            "_model_module_version": "1.2.0",
            "_model_name": "LayoutModel",
            "_view_count": null,
            "_view_module": "@jupyter-widgets/base",
            "_view_module_version": "1.2.0",
            "_view_name": "LayoutView",
            "align_content": null,
            "align_items": null,
            "align_self": null,
            "border": null,
            "bottom": null,
            "display": null,
            "flex": null,
            "flex_flow": null,
            "grid_area": null,
            "grid_auto_columns": null,
            "grid_auto_flow": null,
            "grid_auto_rows": null,
            "grid_column": null,
            "grid_gap": null,
            "grid_row": null,
            "grid_template_areas": null,
            "grid_template_columns": null,
            "grid_template_rows": null,
            "height": "100px",
            "justify_content": null,
            "justify_items": null,
            "left": null,
            "margin": null,
            "max_height": null,
            "max_width": null,
            "min_height": null,
            "min_width": null,
            "object_fit": null,
            "object_position": null,
            "order": null,
            "overflow": null,
            "overflow_x": null,
            "overflow_y": null,
            "padding": null,
            "right": null,
            "top": null,
            "visibility": null,
            "width": "600px"
          }
        },
        "425a1255b9754a4f8ee25f057ab66840": {
          "model_module": "@jupyter-widgets/controls",
          "model_name": "DescriptionStyleModel",
          "model_module_version": "1.5.0",
          "state": {
            "_model_module": "@jupyter-widgets/controls",
            "_model_module_version": "1.5.0",
            "_model_name": "DescriptionStyleModel",
            "_view_count": null,
            "_view_module": "@jupyter-widgets/base",
            "_view_module_version": "1.2.0",
            "_view_name": "StyleView",
            "description_width": ""
          }
        },
        "c8233a3bf8ad4b639a5b819674fb7f4b": {
          "model_module": "@jupyter-widgets/controls",
          "model_name": "ButtonModel",
          "model_module_version": "1.5.0",
          "state": {
            "_dom_classes": [],
            "_model_module": "@jupyter-widgets/controls",
            "_model_module_version": "1.5.0",
            "_model_name": "ButtonModel",
            "_view_count": null,
            "_view_module": "@jupyter-widgets/controls",
            "_view_module_version": "1.5.0",
            "_view_name": "ButtonView",
            "button_style": "info",
            "description": "Predict Sentiment",
            "disabled": false,
            "icon": "",
            "layout": "IPY_MODEL_9f0e6e1367254600929f139d2834a244",
            "style": "IPY_MODEL_919c218d29094f8e83c5c754f3b4ba79",
            "tooltip": ""
          }
        },
        "9f0e6e1367254600929f139d2834a244": {
          "model_module": "@jupyter-widgets/base",
          "model_name": "LayoutModel",
          "model_module_version": "1.2.0",
          "state": {
            "_model_module": "@jupyter-widgets/base",
            "_model_module_version": "1.2.0",
            "_model_name": "LayoutModel",
            "_view_count": null,
            "_view_module": "@jupyter-widgets/base",
            "_view_module_version": "1.2.0",
            "_view_name": "LayoutView",
            "align_content": null,
            "align_items": null,
            "align_self": null,
            "border": null,
            "bottom": null,
            "display": null,
            "flex": null,
            "flex_flow": null,
            "grid_area": null,
            "grid_auto_columns": null,
            "grid_auto_flow": null,
            "grid_auto_rows": null,
            "grid_column": null,
            "grid_gap": null,
            "grid_row": null,
            "grid_template_areas": null,
            "grid_template_columns": null,
            "grid_template_rows": null,
            "height": null,
            "justify_content": null,
            "justify_items": null,
            "left": null,
            "margin": null,
            "max_height": null,
            "max_width": null,
            "min_height": null,
            "min_width": null,
            "object_fit": null,
            "object_position": null,
            "order": null,
            "overflow": null,
            "overflow_x": null,
            "overflow_y": null,
            "padding": null,
            "right": null,
            "top": null,
            "visibility": null,
            "width": null
          }
        },
        "919c218d29094f8e83c5c754f3b4ba79": {
          "model_module": "@jupyter-widgets/controls",
          "model_name": "ButtonStyleModel",
          "model_module_version": "1.5.0",
          "state": {
            "_model_module": "@jupyter-widgets/controls",
            "_model_module_version": "1.5.0",
            "_model_name": "ButtonStyleModel",
            "_view_count": null,
            "_view_module": "@jupyter-widgets/base",
            "_view_module_version": "1.2.0",
            "_view_name": "StyleView",
            "button_color": null,
            "font_weight": ""
          }
        },
        "dab3abc4e8da451d96cc00216163fe66": {
          "model_module": "@jupyter-widgets/output",
          "model_name": "OutputModel",
          "model_module_version": "1.0.0",
          "state": {
            "_dom_classes": [],
            "_model_module": "@jupyter-widgets/output",
            "_model_module_version": "1.0.0",
            "_model_name": "OutputModel",
            "_view_count": null,
            "_view_module": "@jupyter-widgets/output",
            "_view_module_version": "1.0.0",
            "_view_name": "OutputView",
            "layout": "IPY_MODEL_d59422bc1591453785b2a7dcde43a286",
            "msg_id": "",
            "outputs": [
              {
                "output_type": "display_data",
                "data": {
                  "text/plain": "<IPython.core.display.HTML object>",
                  "text/html": "\n            <div style=\"font-size:16px;\">\n                <strong>Predicted Sentiment:</strong> <span style=\"color:red; font-weight:bold;\">Negative</span><br>\n            </div>\n            "
                },
                "metadata": {}
              }
            ]
          }
        },
        "d59422bc1591453785b2a7dcde43a286": {
          "model_module": "@jupyter-widgets/base",
          "model_name": "LayoutModel",
          "model_module_version": "1.2.0",
          "state": {
            "_model_module": "@jupyter-widgets/base",
            "_model_module_version": "1.2.0",
            "_model_name": "LayoutModel",
            "_view_count": null,
            "_view_module": "@jupyter-widgets/base",
            "_view_module_version": "1.2.0",
            "_view_name": "LayoutView",
            "align_content": null,
            "align_items": null,
            "align_self": null,
            "border": null,
            "bottom": null,
            "display": null,
            "flex": null,
            "flex_flow": null,
            "grid_area": null,
            "grid_auto_columns": null,
            "grid_auto_flow": null,
            "grid_auto_rows": null,
            "grid_column": null,
            "grid_gap": null,
            "grid_row": null,
            "grid_template_areas": null,
            "grid_template_columns": null,
            "grid_template_rows": null,
            "height": null,
            "justify_content": null,
            "justify_items": null,
            "left": null,
            "margin": null,
            "max_height": null,
            "max_width": null,
            "min_height": null,
            "min_width": null,
            "object_fit": null,
            "object_position": null,
            "order": null,
            "overflow": null,
            "overflow_x": null,
            "overflow_y": null,
            "padding": null,
            "right": null,
            "top": null,
            "visibility": null,
            "width": null
          }
        }
      }
    }
  },
  "nbformat": 4,
  "nbformat_minor": 0
}